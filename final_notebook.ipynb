{
 "cells": [
  {
   "cell_type": "markdown",
   "metadata": {},
   "source": [
    "# Project 1 - Group 6\n",
    "###### <font color='gray'>Authors: Aisha Baitemoriva-Othman, Adonis McQueen, Angela Kim, Deja Prade, James Kang</font>"
   ]
  },
  {
   "cell_type": "code",
   "execution_count": 1,
   "metadata": {},
   "outputs": [],
   "source": [
    "## Import libraries ##\n",
    "import pandas as pd\n",
    "import numpy as np\n",
    "import matplotlib.pyplot as plt\n",
    "import seaborn as sns\n",
    "%matplotlib inline"
   ]
  },
  {
   "cell_type": "code",
   "execution_count": 4,
   "metadata": {},
   "outputs": [],
   "source": [
    "## Import datasets ##\n",
    "\n",
    "# Aisha's dataset: Rotten Tomatoes\n",
    "df_rt_movie_info = pd.read_csv('data/rt.movie_info.tsv.gz',sep='\\t')\n",
    "\n",
    "# Adonis's dataset: Box Office Mojo\n",
    "df1 = pd.read_csv(\"data/bom.movie_gross.csv.gz\")\n",
    "\n",
    "# Angela's dataset: The Numbers\n",
    "df = pd.read_csv('data/tn.movie_budgets.csv.gz')\n",
    "\n",
    "# Deja's dataset: TMDB\n",
    "movie_type = pd.read_csv('data/tmdb.movies.csv.gz')\n",
    "\n",
    "# James's datasets: IMDB\n",
    "title_ratings = pd.read_csv('data/imdb.title.ratings.csv.gz')\n",
    "title_basics = pd.read_csv('data/imdb.title.basics.csv.gz')\n",
    "title_akas = pd.read_csv('data/imdb.title.akas.csv.gz')"
   ]
  },
  {
   "cell_type": "markdown",
   "metadata": {},
   "source": [
    "### <font color='black'>Questions</font> \n",
    "<ul>\n",
    "<li>*What are the highest gross values for both domestic and worldwide?*\n",
    "<br>\n",
    "<li>*What are the domestic and worldwide profits?*\n",
    "<br>\n",
    "<li>*Are there any values we can reasonably say won't help answer our questions, such as gross values that are too low and can be removed from our working dataset?*\n",
    "</ul>"
   ]
  },
  {
   "cell_type": "code",
   "execution_count": null,
   "metadata": {},
   "outputs": [],
   "source": []
  }
 ],
 "metadata": {
  "kernelspec": {
   "display_name": "Python (learn-env)",
   "language": "python",
   "name": "learn-env"
  },
  "language_info": {
   "codemirror_mode": {
    "name": "ipython",
    "version": 3
   },
   "file_extension": ".py",
   "mimetype": "text/x-python",
   "name": "python",
   "nbconvert_exporter": "python",
   "pygments_lexer": "ipython3",
   "version": "3.8.5"
  }
 },
 "nbformat": 4,
 "nbformat_minor": 4
}
