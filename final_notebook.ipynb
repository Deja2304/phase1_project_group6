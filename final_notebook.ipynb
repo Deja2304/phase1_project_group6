{
 "cells": [
  {
   "cell_type": "markdown",
   "metadata": {},
   "source": [
    "# Project 1 - Group 6\n",
    "###### <font color='gray'>Authors: Aisha Baitemoriva-Othman, Adonis McQueen, Angela Kim, Deja Prade, James Kang</font>"
   ]
  },
  {
   "cell_type": "code",
   "execution_count": 2,
   "metadata": {},
   "outputs": [],
   "source": [
    "## Import libraries ##\n",
    "import pandas as pd\n",
    "import numpy as np\n",
    "import matplotlib.pyplot as plt\n",
    "import seaborn as sns\n",
    "%matplotlib inline"
   ]
  },
  {
   "cell_type": "code",
   "execution_count": 3,
   "metadata": {},
   "outputs": [],
   "source": [
    "## Import datasets ##\n",
    "\n",
    "# Aisha's datasets: Rotten Tomatoes\n",
    "df_rt_movie_info = pd.read_csv('data/rt.movie_info.tsv.gz',sep='\\t')\n",
    "df_rt_reviews = pd.read_csv('data/rt.reviews.tsv.gz',sep='\\t',encoding='latin1')\n",
    "\n",
    "# Adonis's dataset: Box Office Mojo\n",
    "df_gross = pd.read_csv(\"data/bom.movie_gross.csv.gz\")\n",
    "\n",
    "# Angela's dataset: The Numbers\n",
    "mb = pd.read_csv('data/tn.movie_budgets.csv.gz')\n",
    "\n",
    "# Deja's dataset: TMDB\n",
    "movie_type = pd.read_csv('data/tmdb.movies.csv.gz')\n",
    "\n",
    "# James's datasets: IMDB\n",
    "title_ratings = pd.read_csv('data/imdb.title.ratings.csv.gz')\n",
    "title_basics = pd.read_csv('data/imdb.title.basics.csv.gz')\n",
    "title_akas = pd.read_csv('data/imdb.title.akas.csv.gz')"
   ]
  },
  {
   "cell_type": "markdown",
   "metadata": {},
   "source": [
    "## Questions\n",
    "<ul>\n",
    "</ul>\n",
    "<li>Which movies have the highest gross values?\n",
    "<li>What are the domestic and worldwide profits?\n",
    "<li>What is the trend of movie genres over time?\n",
    "<li>How has average movie runtime changed over time?"
   ]
  },
  {
   "cell_type": "markdown",
   "metadata": {},
   "source": [
    "----"
   ]
  },
  {
   "cell_type": "markdown",
   "metadata": {},
   "source": [
    "## Angela's Data Analysis:"
   ]
  },
  {
   "cell_type": "code",
   "execution_count": null,
   "metadata": {},
   "outputs": [],
   "source": [
    "## Preliminary analysis\n",
    "mb.head(10)"
   ]
  },
  {
   "cell_type": "code",
   "execution_count": null,
   "metadata": {},
   "outputs": [],
   "source": [
    "## Check datatypes and look for any missing values\n",
    "mb.info()"
   ]
  },
  {
   "cell_type": "markdown",
   "metadata": {},
   "source": [
    "**Observations and Insights:**\n",
    "<ul>\n",
    "<li>There are 5782 total entries with 0 missing values.\n",
    "<li>The release date column is the object datatype and should be changed to the datetime datatype.\n",
    "<li>The production budget, domestic gross, and worldwide gross columns are also object datatypes and should be changed to integer.\n",
    "</ul>"
   ]
  },
  {
   "cell_type": "code",
   "execution_count": null,
   "metadata": {},
   "outputs": [],
   "source": [
    "## Change release_date to datetime\n",
    "mb['release_date'] = pd.to_datetime(mb['release_date'])\n",
    "\n",
    "## Change production_budget, domestic_gross, and worldwide_gross to integer\n",
    "\n",
    "mb['production_budget'] = mb['production_budget'].str.replace( ',' , '')\n",
    "mb['production_budget'] = mb['production_budget'].str.replace( '$' , '')\n",
    "mb['production_budget'] = pd.to_numeric(mb['production_budget'])\n",
    "\n",
    "mb['domestic_gross'] = mb['domestic_gross'].str.replace( ',' , '')\n",
    "mb['domestic_gross'] = mb['domestic_gross'].str.replace( '$' , '')\n",
    "mb['domestic_gross'] = pd.to_numeric(mb['domestic_gross'])\n",
    "\n",
    "mb['worldwide_gross'] = mb['worldwide_gross'].str.replace( ',' , '')\n",
    "mb['worldwide_gross'] = mb['worldwide_gross'].str.replace( '$' , '')\n",
    "mb['worldwide_gross'] = pd.to_numeric(mb['worldwide_gross'])\n",
    "\n",
    "\n",
    "## Check that all changes have been correctly made\n",
    "mb.info()"
   ]
  },
  {
   "cell_type": "code",
   "execution_count": null,
   "metadata": {
    "scrolled": true
   },
   "outputs": [],
   "source": [
    "## Remove rows with release_date before 2010 to focus on analyzing data from the most recent decade\n",
    "\n",
    "mb = mb[(mb['release_date']) >= '2010-01-01']\n",
    "\n",
    "mb.head(30)"
   ]
  },
  {
   "cell_type": "code",
   "execution_count": null,
   "metadata": {},
   "outputs": [],
   "source": [
    "mb.tail(30)"
   ]
  },
  {
   "cell_type": "markdown",
   "metadata": {},
   "source": [
    "**Observations & Insights:**\n",
    "<ul>\n",
    "<li>There are a lot of gross values that are 0. They also tend to correlate with movies with very small production budgets.\n",
    "<li>Upon investigation, these films are usually independently made and don't apply to a large corporation like Microsoft.\n",
    "</ul>"
   ]
  },
  {
   "cell_type": "code",
   "execution_count": null,
   "metadata": {},
   "outputs": [],
   "source": [
    "## Create two new columns for domestic profit and worldwide profit\n",
    "## Remove rows with negative profits\n",
    "\n",
    "mb['domestic_profit'] = (mb['domestic_gross'] - mb['production_budget'])\n",
    "mb['worldwide_profit'] = (mb['worldwide_gross'] - mb['production_budget'])\n",
    "mb.head(30)"
   ]
  },
  {
   "cell_type": "markdown",
   "metadata": {},
   "source": [
    "**Observations & Insights:**\n",
    "<ul>\n",
    "<li>There are films that are box office bombs such as Dark Phoenix, The Lone Ranger, and Pirates of the Caribbean: On Strangers Tides. Their production budgets overshadowed their box office revenues.\n",
    "</ul>"
   ]
  },
  {
   "cell_type": "code",
   "execution_count": null,
   "metadata": {},
   "outputs": [],
   "source": [
    "## Sort by highest domestic profits\n",
    "\n",
    "mb_dp = mb.sort_values(by=['domestic_profit'], ascending=False)\n",
    "mb_dp.reset_index(inplace=True)\n",
    "\n",
    "## Sort by highest worldwide profits\n",
    "\n",
    "mb_wp = mb.sort_values(by=['worldwide_profit'], ascending=False)\n",
    "mb_wp.reset_index(inplace=True)"
   ]
  },
  {
   "cell_type": "code",
   "execution_count": null,
   "metadata": {},
   "outputs": [],
   "source": [
    "## Bar chart of Top 20 Movies with Highest Domestic Profits\n",
    "\n",
    "fig, ax = plt.subplots(figsize=(12,7))\n",
    "\n",
    "x1 = mb_dp['movie'][0:20]\n",
    "y1 = mb_dp['domestic_profit'][0:20]\n",
    "\n",
    "ax = sns.barplot(x=y1, y=x1, palette='flare_r')\n",
    "ax.set(xlabel='Domestic Profits (in millions)', ylabel='Movies', title='Top 20 Movies with Highest Domestic Profits');"
   ]
  },
  {
   "cell_type": "code",
   "execution_count": null,
   "metadata": {},
   "outputs": [],
   "source": [
    "## Bar chart of Top 20 Movies with Highest Worldwide Profits\n",
    "\n",
    "fig, ax = plt.subplots(figsize=(12,7))\n",
    "\n",
    "x2 = mb_wp['movie'][0:20]\n",
    "y2 = mb_wp['worldwide_profit'][0:20]\n",
    "\n",
    "ax = sns.barplot(x=y2, y=x2, palette='flare_r')\n",
    "ax.set(xlabel='Worldwide Profits (in billions)', ylabel='Movies', title='Top 20 Movies with Highest Worldwide Profits');"
   ]
  },
  {
   "cell_type": "markdown",
   "metadata": {},
   "source": [
    "**Final Observations & Insights:**\n",
    "<ul>\n",
    "    <li>The 10 movies with highest domestic profits from 2010-mid2019 are <b><i>Star Wars Ep. VII: The Force Awakens, Black Panther, Jurassic World, Incredibles 2, The Avengers, Avengers: Infinity War, Beauty and the Beast, Rogue One: A Star Wars Story, The Hunger Games, and Jumanji: Welcome to the Jungle.</i></b>\n",
    "    <li>The 10 movies with highest worldwide profits from 2010-mid2019 are <b><i>Avengers: Infinity War, Star Wars Ep. VII: The Force Awakens, Jurassic World, Furious 7, The Avengers, Harry Potter and the Deathly Hallows: Part II, Black Panther, Jurassic World: Fallen Kingdom, Frozen, and Beauty and the Beast.</i></b>\n",
    "    <li>The most frequently occuring genres of the top 20 films are <b><i>Sci-fi, Action, Adventure, Animation, and Superhero.</i></b>\n",
    "    <li>The majority of these films are part of the <b><i>Marvel</i></b> or <b><i>Star Wars</i></b> franchises.\n",
    "    <li>There has also been a huge focus on revitalizing or reimagining classics such as <b><i>Jurassic Park, James Bond, and Jumanji.</i></b>\n",
    "    <li>Many financially successful films are sequels such as <b><i>Star Wars Ep. VII, Avengers: Infinity War, Furious 7, Harry Potter and the Deathly Hallows: Parts I & II, and Incredibles 2</b></i>\n",
    "</ul>"
   ]
  },
  {
   "cell_type": "markdown",
   "metadata": {},
   "source": [
    "----"
   ]
  },
  {
   "cell_type": "markdown",
   "metadata": {},
   "source": [
    "## Aisha's Data Analysis:"
   ]
  },
  {
   "cell_type": "code",
   "execution_count": 4,
   "metadata": {},
   "outputs": [
    {
     "data": {
      "text/html": [
       "<div>\n",
       "<style scoped>\n",
       "    .dataframe tbody tr th:only-of-type {\n",
       "        vertical-align: middle;\n",
       "    }\n",
       "\n",
       "    .dataframe tbody tr th {\n",
       "        vertical-align: top;\n",
       "    }\n",
       "\n",
       "    .dataframe thead th {\n",
       "        text-align: right;\n",
       "    }\n",
       "</style>\n",
       "<table border=\"1\" class=\"dataframe\">\n",
       "  <thead>\n",
       "    <tr style=\"text-align: right;\">\n",
       "      <th></th>\n",
       "      <th>id</th>\n",
       "      <th>synopsis</th>\n",
       "      <th>rating</th>\n",
       "      <th>genre</th>\n",
       "      <th>director</th>\n",
       "      <th>writer</th>\n",
       "      <th>theater_date</th>\n",
       "      <th>dvd_date</th>\n",
       "      <th>currency</th>\n",
       "      <th>box_office</th>\n",
       "      <th>runtime</th>\n",
       "      <th>studio</th>\n",
       "    </tr>\n",
       "  </thead>\n",
       "  <tbody>\n",
       "    <tr>\n",
       "      <th>0</th>\n",
       "      <td>1</td>\n",
       "      <td>This gritty, fast-paced, and innovative police...</td>\n",
       "      <td>R</td>\n",
       "      <td>Action and Adventure|Classics|Drama</td>\n",
       "      <td>William Friedkin</td>\n",
       "      <td>Ernest Tidyman</td>\n",
       "      <td>Oct 9, 1971</td>\n",
       "      <td>Sep 25, 2001</td>\n",
       "      <td>NaN</td>\n",
       "      <td>NaN</td>\n",
       "      <td>104 minutes</td>\n",
       "      <td>NaN</td>\n",
       "    </tr>\n",
       "    <tr>\n",
       "      <th>1</th>\n",
       "      <td>3</td>\n",
       "      <td>New York City, not-too-distant-future: Eric Pa...</td>\n",
       "      <td>R</td>\n",
       "      <td>Drama|Science Fiction and Fantasy</td>\n",
       "      <td>David Cronenberg</td>\n",
       "      <td>David Cronenberg|Don DeLillo</td>\n",
       "      <td>Aug 17, 2012</td>\n",
       "      <td>Jan 1, 2013</td>\n",
       "      <td>$</td>\n",
       "      <td>600,000</td>\n",
       "      <td>108 minutes</td>\n",
       "      <td>Entertainment One</td>\n",
       "    </tr>\n",
       "    <tr>\n",
       "      <th>2</th>\n",
       "      <td>5</td>\n",
       "      <td>Illeana Douglas delivers a superb performance ...</td>\n",
       "      <td>R</td>\n",
       "      <td>Drama|Musical and Performing Arts</td>\n",
       "      <td>Allison Anders</td>\n",
       "      <td>Allison Anders</td>\n",
       "      <td>Sep 13, 1996</td>\n",
       "      <td>Apr 18, 2000</td>\n",
       "      <td>NaN</td>\n",
       "      <td>NaN</td>\n",
       "      <td>116 minutes</td>\n",
       "      <td>NaN</td>\n",
       "    </tr>\n",
       "  </tbody>\n",
       "</table>\n",
       "</div>"
      ],
      "text/plain": [
       "   id                                           synopsis rating  \\\n",
       "0   1  This gritty, fast-paced, and innovative police...      R   \n",
       "1   3  New York City, not-too-distant-future: Eric Pa...      R   \n",
       "2   5  Illeana Douglas delivers a superb performance ...      R   \n",
       "\n",
       "                                 genre          director  \\\n",
       "0  Action and Adventure|Classics|Drama  William Friedkin   \n",
       "1    Drama|Science Fiction and Fantasy  David Cronenberg   \n",
       "2    Drama|Musical and Performing Arts    Allison Anders   \n",
       "\n",
       "                         writer  theater_date      dvd_date currency  \\\n",
       "0                Ernest Tidyman   Oct 9, 1971  Sep 25, 2001      NaN   \n",
       "1  David Cronenberg|Don DeLillo  Aug 17, 2012   Jan 1, 2013        $   \n",
       "2                Allison Anders  Sep 13, 1996  Apr 18, 2000      NaN   \n",
       "\n",
       "  box_office      runtime             studio  \n",
       "0        NaN  104 minutes                NaN  \n",
       "1    600,000  108 minutes  Entertainment One  \n",
       "2        NaN  116 minutes                NaN  "
      ]
     },
     "execution_count": 4,
     "metadata": {},
     "output_type": "execute_result"
    }
   ],
   "source": [
    "df_rt_movie_info.head(3)"
   ]
  },
  {
   "cell_type": "code",
   "execution_count": 5,
   "metadata": {},
   "outputs": [
    {
     "data": {
      "text/plain": [
       "(1560, 12)"
      ]
     },
     "execution_count": 5,
     "metadata": {},
     "output_type": "execute_result"
    }
   ],
   "source": [
    "df_rt_movie_info.shape"
   ]
  },
  {
   "cell_type": "code",
   "execution_count": 6,
   "metadata": {},
   "outputs": [],
   "source": [
    "# Remove the month and day from the theater_date and create a new column with just the year of the release date\n",
    "df_rt_movie_info['new_theater_date'] = df_rt_movie_info.theater_date.str[-4:]"
   ]
  },
  {
   "cell_type": "code",
   "execution_count": 7,
   "metadata": {},
   "outputs": [],
   "source": [
    "# Convert the values in the 'new_theater_date' column from strings to integers\n",
    "df_rt_movie_info['new_theater_date'] = df_rt_movie_info['new_theater_date'].apply(pd.to_numeric)"
   ]
  },
  {
   "cell_type": "code",
   "execution_count": 8,
   "metadata": {},
   "outputs": [
    {
     "data": {
      "text/html": [
       "<div>\n",
       "<style scoped>\n",
       "    .dataframe tbody tr th:only-of-type {\n",
       "        vertical-align: middle;\n",
       "    }\n",
       "\n",
       "    .dataframe tbody tr th {\n",
       "        vertical-align: top;\n",
       "    }\n",
       "\n",
       "    .dataframe thead th {\n",
       "        text-align: right;\n",
       "    }\n",
       "</style>\n",
       "<table border=\"1\" class=\"dataframe\">\n",
       "  <thead>\n",
       "    <tr style=\"text-align: right;\">\n",
       "      <th></th>\n",
       "      <th>id</th>\n",
       "      <th>synopsis</th>\n",
       "      <th>rating</th>\n",
       "      <th>genre</th>\n",
       "      <th>director</th>\n",
       "      <th>writer</th>\n",
       "      <th>theater_date</th>\n",
       "      <th>dvd_date</th>\n",
       "      <th>currency</th>\n",
       "      <th>box_office</th>\n",
       "      <th>runtime</th>\n",
       "      <th>studio</th>\n",
       "      <th>new_theater_date</th>\n",
       "    </tr>\n",
       "  </thead>\n",
       "  <tbody>\n",
       "    <tr>\n",
       "      <th>0</th>\n",
       "      <td>1</td>\n",
       "      <td>This gritty, fast-paced, and innovative police...</td>\n",
       "      <td>R</td>\n",
       "      <td>Action and Adventure|Classics|Drama</td>\n",
       "      <td>William Friedkin</td>\n",
       "      <td>Ernest Tidyman</td>\n",
       "      <td>Oct 9, 1971</td>\n",
       "      <td>Sep 25, 2001</td>\n",
       "      <td>NaN</td>\n",
       "      <td>NaN</td>\n",
       "      <td>104 minutes</td>\n",
       "      <td>NaN</td>\n",
       "      <td>1971.0</td>\n",
       "    </tr>\n",
       "    <tr>\n",
       "      <th>1</th>\n",
       "      <td>3</td>\n",
       "      <td>New York City, not-too-distant-future: Eric Pa...</td>\n",
       "      <td>R</td>\n",
       "      <td>Drama|Science Fiction and Fantasy</td>\n",
       "      <td>David Cronenberg</td>\n",
       "      <td>David Cronenberg|Don DeLillo</td>\n",
       "      <td>Aug 17, 2012</td>\n",
       "      <td>Jan 1, 2013</td>\n",
       "      <td>$</td>\n",
       "      <td>600,000</td>\n",
       "      <td>108 minutes</td>\n",
       "      <td>Entertainment One</td>\n",
       "      <td>2012.0</td>\n",
       "    </tr>\n",
       "    <tr>\n",
       "      <th>2</th>\n",
       "      <td>5</td>\n",
       "      <td>Illeana Douglas delivers a superb performance ...</td>\n",
       "      <td>R</td>\n",
       "      <td>Drama|Musical and Performing Arts</td>\n",
       "      <td>Allison Anders</td>\n",
       "      <td>Allison Anders</td>\n",
       "      <td>Sep 13, 1996</td>\n",
       "      <td>Apr 18, 2000</td>\n",
       "      <td>NaN</td>\n",
       "      <td>NaN</td>\n",
       "      <td>116 minutes</td>\n",
       "      <td>NaN</td>\n",
       "      <td>1996.0</td>\n",
       "    </tr>\n",
       "  </tbody>\n",
       "</table>\n",
       "</div>"
      ],
      "text/plain": [
       "   id                                           synopsis rating  \\\n",
       "0   1  This gritty, fast-paced, and innovative police...      R   \n",
       "1   3  New York City, not-too-distant-future: Eric Pa...      R   \n",
       "2   5  Illeana Douglas delivers a superb performance ...      R   \n",
       "\n",
       "                                 genre          director  \\\n",
       "0  Action and Adventure|Classics|Drama  William Friedkin   \n",
       "1    Drama|Science Fiction and Fantasy  David Cronenberg   \n",
       "2    Drama|Musical and Performing Arts    Allison Anders   \n",
       "\n",
       "                         writer  theater_date      dvd_date currency  \\\n",
       "0                Ernest Tidyman   Oct 9, 1971  Sep 25, 2001      NaN   \n",
       "1  David Cronenberg|Don DeLillo  Aug 17, 2012   Jan 1, 2013        $   \n",
       "2                Allison Anders  Sep 13, 1996  Apr 18, 2000      NaN   \n",
       "\n",
       "  box_office      runtime             studio  new_theater_date  \n",
       "0        NaN  104 minutes                NaN            1971.0  \n",
       "1    600,000  108 minutes  Entertainment One            2012.0  \n",
       "2        NaN  116 minutes                NaN            1996.0  "
      ]
     },
     "execution_count": 8,
     "metadata": {},
     "output_type": "execute_result"
    }
   ],
   "source": [
    "df_rt_movie_info.head(3)"
   ]
  },
  {
   "cell_type": "markdown",
   "metadata": {},
   "source": [
    "**Observations & Insights**\n",
    "<ul>\n",
    "</ul>\n",
    "<li>There are 494 out of 1560 rows that have a missing studio value"
   ]
  },
  {
   "cell_type": "code",
   "execution_count": 9,
   "metadata": {},
   "outputs": [
    {
     "data": {
      "text/plain": [
       "True     1066\n",
       "False     494\n",
       "Name: studio, dtype: int64"
      ]
     },
     "execution_count": 9,
     "metadata": {},
     "output_type": "execute_result"
    }
   ],
   "source": [
    "df_rt_movie_info['studio'].isna().value_counts()"
   ]
  },
  {
   "cell_type": "code",
   "execution_count": 10,
   "metadata": {},
   "outputs": [
    {
     "data": {
      "text/plain": [
       "Universal Pictures        35\n",
       "Paramount Pictures        27\n",
       "20th Century Fox          26\n",
       "Sony Pictures Classics    22\n",
       "Warner Bros. Pictures     21\n",
       "Name: studio, dtype: int64"
      ]
     },
     "execution_count": 10,
     "metadata": {},
     "output_type": "execute_result"
    }
   ],
   "source": [
    "# All the studios listed\n",
    "df_rt_movie_info['studio'].value_counts().head() "
   ]
  },
  {
   "cell_type": "code",
   "execution_count": 11,
   "metadata": {},
   "outputs": [
    {
     "data": {
      "text/html": [
       "<div>\n",
       "<style scoped>\n",
       "    .dataframe tbody tr th:only-of-type {\n",
       "        vertical-align: middle;\n",
       "    }\n",
       "\n",
       "    .dataframe tbody tr th {\n",
       "        vertical-align: top;\n",
       "    }\n",
       "\n",
       "    .dataframe thead th {\n",
       "        text-align: right;\n",
       "    }\n",
       "</style>\n",
       "<table border=\"1\" class=\"dataframe\">\n",
       "  <thead>\n",
       "    <tr style=\"text-align: right;\">\n",
       "      <th></th>\n",
       "      <th>id</th>\n",
       "      <th>review</th>\n",
       "      <th>rating</th>\n",
       "      <th>fresh</th>\n",
       "      <th>critic</th>\n",
       "      <th>top_critic</th>\n",
       "      <th>publisher</th>\n",
       "      <th>date</th>\n",
       "    </tr>\n",
       "  </thead>\n",
       "  <tbody>\n",
       "    <tr>\n",
       "      <th>0</th>\n",
       "      <td>3</td>\n",
       "      <td>A distinctly gallows take on contemporary fina...</td>\n",
       "      <td>3/5</td>\n",
       "      <td>fresh</td>\n",
       "      <td>PJ Nabarro</td>\n",
       "      <td>0</td>\n",
       "      <td>Patrick Nabarro</td>\n",
       "      <td>November 10, 2018</td>\n",
       "    </tr>\n",
       "    <tr>\n",
       "      <th>1</th>\n",
       "      <td>3</td>\n",
       "      <td>It's an allegory in search of a meaning that n...</td>\n",
       "      <td>NaN</td>\n",
       "      <td>rotten</td>\n",
       "      <td>Annalee Newitz</td>\n",
       "      <td>0</td>\n",
       "      <td>io9.com</td>\n",
       "      <td>May 23, 2018</td>\n",
       "    </tr>\n",
       "    <tr>\n",
       "      <th>2</th>\n",
       "      <td>3</td>\n",
       "      <td>... life lived in a bubble in financial dealin...</td>\n",
       "      <td>NaN</td>\n",
       "      <td>fresh</td>\n",
       "      <td>Sean Axmaker</td>\n",
       "      <td>0</td>\n",
       "      <td>Stream on Demand</td>\n",
       "      <td>January 4, 2018</td>\n",
       "    </tr>\n",
       "    <tr>\n",
       "      <th>3</th>\n",
       "      <td>3</td>\n",
       "      <td>Continuing along a line introduced in last yea...</td>\n",
       "      <td>NaN</td>\n",
       "      <td>fresh</td>\n",
       "      <td>Daniel Kasman</td>\n",
       "      <td>0</td>\n",
       "      <td>MUBI</td>\n",
       "      <td>November 16, 2017</td>\n",
       "    </tr>\n",
       "    <tr>\n",
       "      <th>4</th>\n",
       "      <td>3</td>\n",
       "      <td>... a perverse twist on neorealism...</td>\n",
       "      <td>NaN</td>\n",
       "      <td>fresh</td>\n",
       "      <td>NaN</td>\n",
       "      <td>0</td>\n",
       "      <td>Cinema Scope</td>\n",
       "      <td>October 12, 2017</td>\n",
       "    </tr>\n",
       "    <tr>\n",
       "      <th>5</th>\n",
       "      <td>3</td>\n",
       "      <td>... Cronenberg's Cosmopolis expresses somethin...</td>\n",
       "      <td>NaN</td>\n",
       "      <td>fresh</td>\n",
       "      <td>Michelle Orange</td>\n",
       "      <td>0</td>\n",
       "      <td>Capital New York</td>\n",
       "      <td>September 11, 2017</td>\n",
       "    </tr>\n",
       "    <tr>\n",
       "      <th>6</th>\n",
       "      <td>3</td>\n",
       "      <td>Quickly grows repetitive and tiresome, meander...</td>\n",
       "      <td>C</td>\n",
       "      <td>rotten</td>\n",
       "      <td>Eric D. Snider</td>\n",
       "      <td>0</td>\n",
       "      <td>EricDSnider.com</td>\n",
       "      <td>July 17, 2013</td>\n",
       "    </tr>\n",
       "    <tr>\n",
       "      <th>7</th>\n",
       "      <td>3</td>\n",
       "      <td>Cronenberg is not a director to be daunted by ...</td>\n",
       "      <td>2/5</td>\n",
       "      <td>rotten</td>\n",
       "      <td>Matt Kelemen</td>\n",
       "      <td>0</td>\n",
       "      <td>Las Vegas CityLife</td>\n",
       "      <td>April 21, 2013</td>\n",
       "    </tr>\n",
       "    <tr>\n",
       "      <th>8</th>\n",
       "      <td>3</td>\n",
       "      <td>Cronenberg's cold, exacting precision and emot...</td>\n",
       "      <td>NaN</td>\n",
       "      <td>fresh</td>\n",
       "      <td>Sean Axmaker</td>\n",
       "      <td>0</td>\n",
       "      <td>Parallax View</td>\n",
       "      <td>March 24, 2013</td>\n",
       "    </tr>\n",
       "    <tr>\n",
       "      <th>9</th>\n",
       "      <td>3</td>\n",
       "      <td>Over and above its topical urgency or the bit ...</td>\n",
       "      <td>NaN</td>\n",
       "      <td>fresh</td>\n",
       "      <td>Kong Rithdee</td>\n",
       "      <td>0</td>\n",
       "      <td>Bangkok Post</td>\n",
       "      <td>March 4, 2013</td>\n",
       "    </tr>\n",
       "  </tbody>\n",
       "</table>\n",
       "</div>"
      ],
      "text/plain": [
       "   id                                             review rating   fresh  \\\n",
       "0   3  A distinctly gallows take on contemporary fina...    3/5   fresh   \n",
       "1   3  It's an allegory in search of a meaning that n...    NaN  rotten   \n",
       "2   3  ... life lived in a bubble in financial dealin...    NaN   fresh   \n",
       "3   3  Continuing along a line introduced in last yea...    NaN   fresh   \n",
       "4   3             ... a perverse twist on neorealism...     NaN   fresh   \n",
       "5   3  ... Cronenberg's Cosmopolis expresses somethin...    NaN   fresh   \n",
       "6   3  Quickly grows repetitive and tiresome, meander...      C  rotten   \n",
       "7   3  Cronenberg is not a director to be daunted by ...    2/5  rotten   \n",
       "8   3  Cronenberg's cold, exacting precision and emot...    NaN   fresh   \n",
       "9   3  Over and above its topical urgency or the bit ...    NaN   fresh   \n",
       "\n",
       "            critic  top_critic           publisher                date  \n",
       "0       PJ Nabarro           0     Patrick Nabarro   November 10, 2018  \n",
       "1   Annalee Newitz           0             io9.com        May 23, 2018  \n",
       "2     Sean Axmaker           0    Stream on Demand     January 4, 2018  \n",
       "3    Daniel Kasman           0                MUBI   November 16, 2017  \n",
       "4              NaN           0        Cinema Scope    October 12, 2017  \n",
       "5  Michelle Orange           0    Capital New York  September 11, 2017  \n",
       "6   Eric D. Snider           0     EricDSnider.com       July 17, 2013  \n",
       "7     Matt Kelemen           0  Las Vegas CityLife      April 21, 2013  \n",
       "8     Sean Axmaker           0       Parallax View      March 24, 2013  \n",
       "9     Kong Rithdee           0        Bangkok Post       March 4, 2013  "
      ]
     },
     "execution_count": 11,
     "metadata": {},
     "output_type": "execute_result"
    }
   ],
   "source": [
    "df_rt_reviews.head(10)"
   ]
  },
  {
   "cell_type": "code",
   "execution_count": 12,
   "metadata": {},
   "outputs": [
    {
     "data": {
      "text/html": [
       "<div>\n",
       "<style scoped>\n",
       "    .dataframe tbody tr th:only-of-type {\n",
       "        vertical-align: middle;\n",
       "    }\n",
       "\n",
       "    .dataframe tbody tr th {\n",
       "        vertical-align: top;\n",
       "    }\n",
       "\n",
       "    .dataframe thead th {\n",
       "        text-align: right;\n",
       "    }\n",
       "</style>\n",
       "<table border=\"1\" class=\"dataframe\">\n",
       "  <thead>\n",
       "    <tr style=\"text-align: right;\">\n",
       "      <th></th>\n",
       "      <th>id</th>\n",
       "      <th>review</th>\n",
       "      <th>rating</th>\n",
       "      <th>fresh</th>\n",
       "      <th>critic</th>\n",
       "      <th>top_critic</th>\n",
       "      <th>publisher</th>\n",
       "      <th>date</th>\n",
       "    </tr>\n",
       "  </thead>\n",
       "  <tbody>\n",
       "    <tr>\n",
       "      <th>1</th>\n",
       "      <td>3</td>\n",
       "      <td>It's an allegory in search of a meaning that n...</td>\n",
       "      <td>NaN</td>\n",
       "      <td>rotten</td>\n",
       "      <td>Annalee Newitz</td>\n",
       "      <td>0</td>\n",
       "      <td>io9.com</td>\n",
       "      <td>May 23, 2018</td>\n",
       "    </tr>\n",
       "    <tr>\n",
       "      <th>2</th>\n",
       "      <td>3</td>\n",
       "      <td>... life lived in a bubble in financial dealin...</td>\n",
       "      <td>NaN</td>\n",
       "      <td>fresh</td>\n",
       "      <td>Sean Axmaker</td>\n",
       "      <td>0</td>\n",
       "      <td>Stream on Demand</td>\n",
       "      <td>January 4, 2018</td>\n",
       "    </tr>\n",
       "    <tr>\n",
       "      <th>3</th>\n",
       "      <td>3</td>\n",
       "      <td>Continuing along a line introduced in last yea...</td>\n",
       "      <td>NaN</td>\n",
       "      <td>fresh</td>\n",
       "      <td>Daniel Kasman</td>\n",
       "      <td>0</td>\n",
       "      <td>MUBI</td>\n",
       "      <td>November 16, 2017</td>\n",
       "    </tr>\n",
       "    <tr>\n",
       "      <th>4</th>\n",
       "      <td>3</td>\n",
       "      <td>... a perverse twist on neorealism...</td>\n",
       "      <td>NaN</td>\n",
       "      <td>fresh</td>\n",
       "      <td>NaN</td>\n",
       "      <td>0</td>\n",
       "      <td>Cinema Scope</td>\n",
       "      <td>October 12, 2017</td>\n",
       "    </tr>\n",
       "    <tr>\n",
       "      <th>5</th>\n",
       "      <td>3</td>\n",
       "      <td>... Cronenberg's Cosmopolis expresses somethin...</td>\n",
       "      <td>NaN</td>\n",
       "      <td>fresh</td>\n",
       "      <td>Michelle Orange</td>\n",
       "      <td>0</td>\n",
       "      <td>Capital New York</td>\n",
       "      <td>September 11, 2017</td>\n",
       "    </tr>\n",
       "    <tr>\n",
       "      <th>...</th>\n",
       "      <td>...</td>\n",
       "      <td>...</td>\n",
       "      <td>...</td>\n",
       "      <td>...</td>\n",
       "      <td>...</td>\n",
       "      <td>...</td>\n",
       "      <td>...</td>\n",
       "      <td>...</td>\n",
       "    </tr>\n",
       "    <tr>\n",
       "      <th>54409</th>\n",
       "      <td>2000</td>\n",
       "      <td>A lightweight, uneven action comedy that freel...</td>\n",
       "      <td>NaN</td>\n",
       "      <td>rotten</td>\n",
       "      <td>Daniel Eagan</td>\n",
       "      <td>0</td>\n",
       "      <td>Film Journal International</td>\n",
       "      <td>October 5, 2002</td>\n",
       "    </tr>\n",
       "    <tr>\n",
       "      <th>54417</th>\n",
       "      <td>2000</td>\n",
       "      <td>The funny thing is, I didn't mind all this con...</td>\n",
       "      <td>NaN</td>\n",
       "      <td>fresh</td>\n",
       "      <td>Andrew Sarris</td>\n",
       "      <td>1</td>\n",
       "      <td>Observer</td>\n",
       "      <td>October 2, 2002</td>\n",
       "    </tr>\n",
       "    <tr>\n",
       "      <th>54425</th>\n",
       "      <td>2000</td>\n",
       "      <td>Despite Besson's high-profile name being Wasab...</td>\n",
       "      <td>NaN</td>\n",
       "      <td>fresh</td>\n",
       "      <td>Andy Klein</td>\n",
       "      <td>0</td>\n",
       "      <td>New Times</td>\n",
       "      <td>September 26, 2002</td>\n",
       "    </tr>\n",
       "    <tr>\n",
       "      <th>54426</th>\n",
       "      <td>2000</td>\n",
       "      <td>The film lapses too often into sugary sentimen...</td>\n",
       "      <td>NaN</td>\n",
       "      <td>rotten</td>\n",
       "      <td>Paul Malcolm</td>\n",
       "      <td>1</td>\n",
       "      <td>L.A. Weekly</td>\n",
       "      <td>September 26, 2002</td>\n",
       "    </tr>\n",
       "    <tr>\n",
       "      <th>54427</th>\n",
       "      <td>2000</td>\n",
       "      <td>The real charm of this trifle is the deadpan c...</td>\n",
       "      <td>NaN</td>\n",
       "      <td>fresh</td>\n",
       "      <td>Laura Sinagra</td>\n",
       "      <td>1</td>\n",
       "      <td>Village Voice</td>\n",
       "      <td>September 24, 2002</td>\n",
       "    </tr>\n",
       "  </tbody>\n",
       "</table>\n",
       "<p>13517 rows × 8 columns</p>\n",
       "</div>"
      ],
      "text/plain": [
       "         id                                             review rating   fresh  \\\n",
       "1         3  It's an allegory in search of a meaning that n...    NaN  rotten   \n",
       "2         3  ... life lived in a bubble in financial dealin...    NaN   fresh   \n",
       "3         3  Continuing along a line introduced in last yea...    NaN   fresh   \n",
       "4         3             ... a perverse twist on neorealism...     NaN   fresh   \n",
       "5         3  ... Cronenberg's Cosmopolis expresses somethin...    NaN   fresh   \n",
       "...     ...                                                ...    ...     ...   \n",
       "54409  2000  A lightweight, uneven action comedy that freel...    NaN  rotten   \n",
       "54417  2000  The funny thing is, I didn't mind all this con...    NaN   fresh   \n",
       "54425  2000  Despite Besson's high-profile name being Wasab...    NaN   fresh   \n",
       "54426  2000  The film lapses too often into sugary sentimen...    NaN  rotten   \n",
       "54427  2000  The real charm of this trifle is the deadpan c...    NaN   fresh   \n",
       "\n",
       "                critic  top_critic                   publisher  \\\n",
       "1       Annalee Newitz           0                     io9.com   \n",
       "2         Sean Axmaker           0            Stream on Demand   \n",
       "3        Daniel Kasman           0                        MUBI   \n",
       "4                  NaN           0                Cinema Scope   \n",
       "5      Michelle Orange           0            Capital New York   \n",
       "...                ...         ...                         ...   \n",
       "54409     Daniel Eagan           0  Film Journal International   \n",
       "54417    Andrew Sarris           1                    Observer   \n",
       "54425       Andy Klein           0                   New Times   \n",
       "54426     Paul Malcolm           1                 L.A. Weekly   \n",
       "54427    Laura Sinagra           1               Village Voice   \n",
       "\n",
       "                     date  \n",
       "1            May 23, 2018  \n",
       "2         January 4, 2018  \n",
       "3       November 16, 2017  \n",
       "4        October 12, 2017  \n",
       "5      September 11, 2017  \n",
       "...                   ...  \n",
       "54409     October 5, 2002  \n",
       "54417     October 2, 2002  \n",
       "54425  September 26, 2002  \n",
       "54426  September 26, 2002  \n",
       "54427  September 24, 2002  \n",
       "\n",
       "[13517 rows x 8 columns]"
      ]
     },
     "execution_count": 12,
     "metadata": {},
     "output_type": "execute_result"
    }
   ],
   "source": [
    "df_rt_reviews[df_rt_reviews['rating'].isna()]"
   ]
  },
  {
   "cell_type": "code",
   "execution_count": 16,
   "metadata": {},
   "outputs": [
    {
     "data": {
      "text/plain": [
       "(40915, 10)"
      ]
     },
     "execution_count": 16,
     "metadata": {},
     "output_type": "execute_result"
    }
   ],
   "source": [
    "# remove all rows that have a null value in the 'rating' column\n",
    "df_rt_reviews = df_rt_reviews[df_rt_reviews['rating'].notna()]\n",
    "df_rt_reviews.shape"
   ]
  },
  {
   "cell_type": "code",
   "execution_count": 17,
   "metadata": {},
   "outputs": [
    {
     "data": {
      "text/html": [
       "<div>\n",
       "<style scoped>\n",
       "    .dataframe tbody tr th:only-of-type {\n",
       "        vertical-align: middle;\n",
       "    }\n",
       "\n",
       "    .dataframe tbody tr th {\n",
       "        vertical-align: top;\n",
       "    }\n",
       "\n",
       "    .dataframe thead th {\n",
       "        text-align: right;\n",
       "    }\n",
       "</style>\n",
       "<table border=\"1\" class=\"dataframe\">\n",
       "  <thead>\n",
       "    <tr style=\"text-align: right;\">\n",
       "      <th></th>\n",
       "      <th>id</th>\n",
       "      <th>review</th>\n",
       "      <th>rating</th>\n",
       "      <th>fresh</th>\n",
       "      <th>critic</th>\n",
       "      <th>top_critic</th>\n",
       "      <th>publisher</th>\n",
       "      <th>date</th>\n",
       "      <th>fn</th>\n",
       "      <th>sn</th>\n",
       "    </tr>\n",
       "  </thead>\n",
       "  <tbody>\n",
       "    <tr>\n",
       "      <th>47013</th>\n",
       "      <td>1765</td>\n",
       "      <td>upposed to be a horror-comedy film, but it's n...</td>\n",
       "      <td>T</td>\n",
       "      <td>rotten</td>\n",
       "      <td>Jeff Vice</td>\n",
       "      <td>0</td>\n",
       "      <td>Deseret News (Salt Lake City)</td>\n",
       "      <td>January 1, 2000</td>\n",
       "      <td>T</td>\n",
       "      <td>None</td>\n",
       "    </tr>\n",
       "  </tbody>\n",
       "</table>\n",
       "</div>"
      ],
      "text/plain": [
       "         id                                             review rating   fresh  \\\n",
       "47013  1765  upposed to be a horror-comedy film, but it's n...      T  rotten   \n",
       "\n",
       "          critic  top_critic                      publisher             date  \\\n",
       "47013  Jeff Vice           0  Deseret News (Salt Lake City)  January 1, 2000   \n",
       "\n",
       "      fn    sn  \n",
       "47013  T  None  "
      ]
     },
     "execution_count": 17,
     "metadata": {},
     "output_type": "execute_result"
    }
   ],
   "source": [
    "df_rt_reviews.loc[df_rt_reviews ['rating'] == 'T']"
   ]
  },
  {
   "cell_type": "code",
   "execution_count": 13,
   "metadata": {},
   "outputs": [],
   "source": [
    "# Split the \"rating\" column into two separate columns, separating them on \"/\" if the rating is not a letter\n",
    "df_rt_reviews[['fn','sn']] = df_rt_reviews['rating'].str.split('/',expand=True)"
   ]
  },
  {
   "cell_type": "code",
   "execution_count": 14,
   "metadata": {},
   "outputs": [
    {
     "data": {
      "text/html": [
       "<div>\n",
       "<style scoped>\n",
       "    .dataframe tbody tr th:only-of-type {\n",
       "        vertical-align: middle;\n",
       "    }\n",
       "\n",
       "    .dataframe tbody tr th {\n",
       "        vertical-align: top;\n",
       "    }\n",
       "\n",
       "    .dataframe thead th {\n",
       "        text-align: right;\n",
       "    }\n",
       "</style>\n",
       "<table border=\"1\" class=\"dataframe\">\n",
       "  <thead>\n",
       "    <tr style=\"text-align: right;\">\n",
       "      <th></th>\n",
       "      <th>id</th>\n",
       "      <th>review</th>\n",
       "      <th>rating</th>\n",
       "      <th>fresh</th>\n",
       "      <th>critic</th>\n",
       "      <th>top_critic</th>\n",
       "      <th>publisher</th>\n",
       "      <th>date</th>\n",
       "      <th>fn</th>\n",
       "      <th>sn</th>\n",
       "    </tr>\n",
       "  </thead>\n",
       "  <tbody>\n",
       "    <tr>\n",
       "      <th>0</th>\n",
       "      <td>3</td>\n",
       "      <td>A distinctly gallows take on contemporary fina...</td>\n",
       "      <td>3/5</td>\n",
       "      <td>fresh</td>\n",
       "      <td>PJ Nabarro</td>\n",
       "      <td>0</td>\n",
       "      <td>Patrick Nabarro</td>\n",
       "      <td>November 10, 2018</td>\n",
       "      <td>3</td>\n",
       "      <td>5</td>\n",
       "    </tr>\n",
       "    <tr>\n",
       "      <th>1</th>\n",
       "      <td>3</td>\n",
       "      <td>It's an allegory in search of a meaning that n...</td>\n",
       "      <td>NaN</td>\n",
       "      <td>rotten</td>\n",
       "      <td>Annalee Newitz</td>\n",
       "      <td>0</td>\n",
       "      <td>io9.com</td>\n",
       "      <td>May 23, 2018</td>\n",
       "      <td>NaN</td>\n",
       "      <td>NaN</td>\n",
       "    </tr>\n",
       "    <tr>\n",
       "      <th>2</th>\n",
       "      <td>3</td>\n",
       "      <td>... life lived in a bubble in financial dealin...</td>\n",
       "      <td>NaN</td>\n",
       "      <td>fresh</td>\n",
       "      <td>Sean Axmaker</td>\n",
       "      <td>0</td>\n",
       "      <td>Stream on Demand</td>\n",
       "      <td>January 4, 2018</td>\n",
       "      <td>NaN</td>\n",
       "      <td>NaN</td>\n",
       "    </tr>\n",
       "    <tr>\n",
       "      <th>3</th>\n",
       "      <td>3</td>\n",
       "      <td>Continuing along a line introduced in last yea...</td>\n",
       "      <td>NaN</td>\n",
       "      <td>fresh</td>\n",
       "      <td>Daniel Kasman</td>\n",
       "      <td>0</td>\n",
       "      <td>MUBI</td>\n",
       "      <td>November 16, 2017</td>\n",
       "      <td>NaN</td>\n",
       "      <td>NaN</td>\n",
       "    </tr>\n",
       "    <tr>\n",
       "      <th>4</th>\n",
       "      <td>3</td>\n",
       "      <td>... a perverse twist on neorealism...</td>\n",
       "      <td>NaN</td>\n",
       "      <td>fresh</td>\n",
       "      <td>NaN</td>\n",
       "      <td>0</td>\n",
       "      <td>Cinema Scope</td>\n",
       "      <td>October 12, 2017</td>\n",
       "      <td>NaN</td>\n",
       "      <td>NaN</td>\n",
       "    </tr>\n",
       "  </tbody>\n",
       "</table>\n",
       "</div>"
      ],
      "text/plain": [
       "   id                                             review rating   fresh  \\\n",
       "0   3  A distinctly gallows take on contemporary fina...    3/5   fresh   \n",
       "1   3  It's an allegory in search of a meaning that n...    NaN  rotten   \n",
       "2   3  ... life lived in a bubble in financial dealin...    NaN   fresh   \n",
       "3   3  Continuing along a line introduced in last yea...    NaN   fresh   \n",
       "4   3             ... a perverse twist on neorealism...     NaN   fresh   \n",
       "\n",
       "           critic  top_critic         publisher               date   fn   sn  \n",
       "0      PJ Nabarro           0   Patrick Nabarro  November 10, 2018    3    5  \n",
       "1  Annalee Newitz           0           io9.com       May 23, 2018  NaN  NaN  \n",
       "2    Sean Axmaker           0  Stream on Demand    January 4, 2018  NaN  NaN  \n",
       "3   Daniel Kasman           0              MUBI  November 16, 2017  NaN  NaN  \n",
       "4             NaN           0      Cinema Scope   October 12, 2017  NaN  NaN  "
      ]
     },
     "execution_count": 14,
     "metadata": {},
     "output_type": "execute_result"
    }
   ],
   "source": [
    "df_rt_reviews.head()"
   ]
  },
  {
   "cell_type": "code",
   "execution_count": 18,
   "metadata": {},
   "outputs": [],
   "source": [
    "# replace the null values in the 'sn'(second number) with number 1. The row of the column 'sn' has a null value \n",
    "# only if the corresponding 'rating' column has a letter rating.\n",
    "df_rt_reviews['sn'] = df_rt_reviews.sn.apply(lambda x: x if not pd.isnull(x) else 1)"
   ]
  },
  {
   "cell_type": "code",
   "execution_count": 19,
   "metadata": {},
   "outputs": [],
   "source": [
    "# The letters we have: A+,A,A-,B+,B,B-,C+,C,C-,D+,D,D-,F+,F,F-\n",
    "# A+ gets 1, A gets 93.34, A- gets 86.68, B+ gets 80.02, B gets 73.36, B- gets 66.7, \n",
    "#C+ gets 60.04\n",
    "# C gets 53.38, C- gets 46.72, D+ gets 40.06, D gets 33.4, D- gets 26.74\n",
    "# F+ gets 20.08, F gets 13.42, F- gets 6.66"
   ]
  },
  {
   "cell_type": "code",
   "execution_count": 20,
   "metadata": {},
   "outputs": [],
   "source": [
    "# replacing the letter ratings with the appropriate percentage explained in the above cell\n",
    "df_rt_reviews['fn'] = df_rt_reviews['fn'].replace(['A+','A','A-','B+','B','B-','C+','C','C-','D+','D','D-','F+','F','F-'],[1,0.9334,0.8668,0.8002,0.7336,0.667,0.6004,0.5338,0.4672,0.4006,0.334,0.2674,0.2008,0.1342,0.666])"
   ]
  },
  {
   "cell_type": "code",
   "execution_count": 21,
   "metadata": {},
   "outputs": [],
   "source": [
    "# deleting a row with an outlier value in the 'fn' column which is giving an error \n",
    "# when trying to convert all string values into numeric values\n",
    "df_rt_reviews = df_rt_reviews[df_rt_reviews.fn != 'N']\n",
    "df_rt_reviews = df_rt_reviews[df_rt_reviews.fn != 'R']\n",
    "df_rt_reviews = df_rt_reviews[df_rt_reviews.fn != '1-5']\n",
    "df_rt_reviews = df_rt_reviews[df_rt_reviews.fn != 'T']\n",
    "df_rt_reviews = df_rt_reviews[df_rt_reviews.fn != '3 1']"
   ]
  },
  {
   "cell_type": "code",
   "execution_count": 22,
   "metadata": {},
   "outputs": [],
   "source": [
    "# Convert all string values in the 'fn' and 'sn' columns into numeric values\n",
    "df_rt_reviews['fn'] = df_rt_reviews['fn'].apply(pd.to_numeric)\n",
    "df_rt_reviews['sn'] = df_rt_reviews['sn'].apply(pd.to_numeric)"
   ]
  },
  {
   "cell_type": "code",
   "execution_count": 23,
   "metadata": {},
   "outputs": [],
   "source": [
    "df_rt_reviews['new_rating'] = df_rt_reviews.apply(lambda row: row.fn/row.sn, axis=1)"
   ]
  },
  {
   "cell_type": "code",
   "execution_count": 24,
   "metadata": {},
   "outputs": [],
   "source": [
    "# Delete rows that have a new_rating value higher than 1\n",
    "df_rt_reviews = df_rt_reviews[df_rt_reviews.new_rating <=1]"
   ]
  },
  {
   "cell_type": "code",
   "execution_count": 25,
   "metadata": {},
   "outputs": [
    {
     "data": {
      "text/html": [
       "<div>\n",
       "<style scoped>\n",
       "    .dataframe tbody tr th:only-of-type {\n",
       "        vertical-align: middle;\n",
       "    }\n",
       "\n",
       "    .dataframe tbody tr th {\n",
       "        vertical-align: top;\n",
       "    }\n",
       "\n",
       "    .dataframe thead th {\n",
       "        text-align: right;\n",
       "    }\n",
       "</style>\n",
       "<table border=\"1\" class=\"dataframe\">\n",
       "  <thead>\n",
       "    <tr style=\"text-align: right;\">\n",
       "      <th></th>\n",
       "      <th>id</th>\n",
       "      <th>review</th>\n",
       "      <th>rating</th>\n",
       "      <th>fresh</th>\n",
       "      <th>critic</th>\n",
       "      <th>top_critic</th>\n",
       "      <th>publisher</th>\n",
       "      <th>date</th>\n",
       "      <th>fn</th>\n",
       "      <th>sn</th>\n",
       "      <th>new_rating</th>\n",
       "    </tr>\n",
       "  </thead>\n",
       "  <tbody>\n",
       "    <tr>\n",
       "      <th>0</th>\n",
       "      <td>3</td>\n",
       "      <td>A distinctly gallows take on contemporary fina...</td>\n",
       "      <td>3/5</td>\n",
       "      <td>fresh</td>\n",
       "      <td>PJ Nabarro</td>\n",
       "      <td>0</td>\n",
       "      <td>Patrick Nabarro</td>\n",
       "      <td>November 10, 2018</td>\n",
       "      <td>3.0000</td>\n",
       "      <td>5</td>\n",
       "      <td>0.6000</td>\n",
       "    </tr>\n",
       "    <tr>\n",
       "      <th>6</th>\n",
       "      <td>3</td>\n",
       "      <td>Quickly grows repetitive and tiresome, meander...</td>\n",
       "      <td>C</td>\n",
       "      <td>rotten</td>\n",
       "      <td>Eric D. Snider</td>\n",
       "      <td>0</td>\n",
       "      <td>EricDSnider.com</td>\n",
       "      <td>July 17, 2013</td>\n",
       "      <td>0.5338</td>\n",
       "      <td>1</td>\n",
       "      <td>0.5338</td>\n",
       "    </tr>\n",
       "    <tr>\n",
       "      <th>7</th>\n",
       "      <td>3</td>\n",
       "      <td>Cronenberg is not a director to be daunted by ...</td>\n",
       "      <td>2/5</td>\n",
       "      <td>rotten</td>\n",
       "      <td>Matt Kelemen</td>\n",
       "      <td>0</td>\n",
       "      <td>Las Vegas CityLife</td>\n",
       "      <td>April 21, 2013</td>\n",
       "      <td>2.0000</td>\n",
       "      <td>5</td>\n",
       "      <td>0.4000</td>\n",
       "    </tr>\n",
       "    <tr>\n",
       "      <th>11</th>\n",
       "      <td>3</td>\n",
       "      <td>While not one of Cronenberg's stronger films, ...</td>\n",
       "      <td>B-</td>\n",
       "      <td>fresh</td>\n",
       "      <td>Emanuel Levy</td>\n",
       "      <td>0</td>\n",
       "      <td>EmanuelLevy.Com</td>\n",
       "      <td>February 3, 2013</td>\n",
       "      <td>0.6670</td>\n",
       "      <td>1</td>\n",
       "      <td>0.6670</td>\n",
       "    </tr>\n",
       "    <tr>\n",
       "      <th>12</th>\n",
       "      <td>3</td>\n",
       "      <td>Robert Pattinson works mighty hard to make Cos...</td>\n",
       "      <td>2/4</td>\n",
       "      <td>rotten</td>\n",
       "      <td>Christian Toto</td>\n",
       "      <td>0</td>\n",
       "      <td>Big Hollywood</td>\n",
       "      <td>January 15, 2013</td>\n",
       "      <td>2.0000</td>\n",
       "      <td>4</td>\n",
       "      <td>0.5000</td>\n",
       "    </tr>\n",
       "  </tbody>\n",
       "</table>\n",
       "</div>"
      ],
      "text/plain": [
       "    id                                             review rating   fresh  \\\n",
       "0    3  A distinctly gallows take on contemporary fina...    3/5   fresh   \n",
       "6    3  Quickly grows repetitive and tiresome, meander...      C  rotten   \n",
       "7    3  Cronenberg is not a director to be daunted by ...    2/5  rotten   \n",
       "11   3  While not one of Cronenberg's stronger films, ...     B-   fresh   \n",
       "12   3  Robert Pattinson works mighty hard to make Cos...    2/4  rotten   \n",
       "\n",
       "            critic  top_critic           publisher               date      fn  \\\n",
       "0       PJ Nabarro           0     Patrick Nabarro  November 10, 2018  3.0000   \n",
       "6   Eric D. Snider           0     EricDSnider.com      July 17, 2013  0.5338   \n",
       "7     Matt Kelemen           0  Las Vegas CityLife     April 21, 2013  2.0000   \n",
       "11    Emanuel Levy           0     EmanuelLevy.Com   February 3, 2013  0.6670   \n",
       "12  Christian Toto           0       Big Hollywood   January 15, 2013  2.0000   \n",
       "\n",
       "    sn  new_rating  \n",
       "0    5      0.6000  \n",
       "6    1      0.5338  \n",
       "7    5      0.4000  \n",
       "11   1      0.6670  \n",
       "12   4      0.5000  "
      ]
     },
     "execution_count": 25,
     "metadata": {},
     "output_type": "execute_result"
    }
   ],
   "source": [
    "df_rt_reviews.head()"
   ]
  },
  {
   "cell_type": "code",
   "execution_count": 26,
   "metadata": {},
   "outputs": [],
   "source": [
    "# Create a new dataset with only 'id' and 'new_rating' columns of the 'df_rt_reviews' dataset\n",
    "# so we can merge it later on with the 'df_rt_movie_info' dataset.\n",
    "new_rt_reviews = pd.DataFrame(zip(df_rt_reviews.id, df_rt_reviews.new_rating))"
   ]
  },
  {
   "cell_type": "code",
   "execution_count": 37,
   "metadata": {},
   "outputs": [],
   "source": [
    "# Rename the columns back to original names\n",
    "new_rt_reviews.rename(columns={0: 'id', 1: 'rating'}, inplace=True)"
   ]
  },
  {
   "cell_type": "code",
   "execution_count": 28,
   "metadata": {},
   "outputs": [
    {
     "data": {
      "text/html": [
       "<div>\n",
       "<style scoped>\n",
       "    .dataframe tbody tr th:only-of-type {\n",
       "        vertical-align: middle;\n",
       "    }\n",
       "\n",
       "    .dataframe tbody tr th {\n",
       "        vertical-align: top;\n",
       "    }\n",
       "\n",
       "    .dataframe thead th {\n",
       "        text-align: right;\n",
       "    }\n",
       "</style>\n",
       "<table border=\"1\" class=\"dataframe\">\n",
       "  <thead>\n",
       "    <tr style=\"text-align: right;\">\n",
       "      <th></th>\n",
       "      <th>id</th>\n",
       "      <th>rating</th>\n",
       "    </tr>\n",
       "  </thead>\n",
       "  <tbody>\n",
       "    <tr>\n",
       "      <th>0</th>\n",
       "      <td>3</td>\n",
       "      <td>0.6000</td>\n",
       "    </tr>\n",
       "    <tr>\n",
       "      <th>1</th>\n",
       "      <td>3</td>\n",
       "      <td>0.5338</td>\n",
       "    </tr>\n",
       "    <tr>\n",
       "      <th>2</th>\n",
       "      <td>3</td>\n",
       "      <td>0.4000</td>\n",
       "    </tr>\n",
       "    <tr>\n",
       "      <th>3</th>\n",
       "      <td>3</td>\n",
       "      <td>0.6670</td>\n",
       "    </tr>\n",
       "    <tr>\n",
       "      <th>4</th>\n",
       "      <td>3</td>\n",
       "      <td>0.5000</td>\n",
       "    </tr>\n",
       "  </tbody>\n",
       "</table>\n",
       "</div>"
      ],
      "text/plain": [
       "   id  rating\n",
       "0   3  0.6000\n",
       "1   3  0.5338\n",
       "2   3  0.4000\n",
       "3   3  0.6670\n",
       "4   3  0.5000"
      ]
     },
     "execution_count": 28,
     "metadata": {},
     "output_type": "execute_result"
    }
   ],
   "source": [
    "new_rt_reviews.head()"
   ]
  },
  {
   "cell_type": "code",
   "execution_count": 29,
   "metadata": {},
   "outputs": [
    {
     "data": {
      "text/html": [
       "<div>\n",
       "<style scoped>\n",
       "    .dataframe tbody tr th:only-of-type {\n",
       "        vertical-align: middle;\n",
       "    }\n",
       "\n",
       "    .dataframe tbody tr th {\n",
       "        vertical-align: top;\n",
       "    }\n",
       "\n",
       "    .dataframe thead th {\n",
       "        text-align: right;\n",
       "    }\n",
       "</style>\n",
       "<table border=\"1\" class=\"dataframe\">\n",
       "  <thead>\n",
       "    <tr style=\"text-align: right;\">\n",
       "      <th></th>\n",
       "      <th>id</th>\n",
       "      <th>synopsis</th>\n",
       "      <th>rating</th>\n",
       "      <th>genre</th>\n",
       "      <th>director</th>\n",
       "      <th>writer</th>\n",
       "      <th>theater_date</th>\n",
       "      <th>dvd_date</th>\n",
       "      <th>currency</th>\n",
       "      <th>box_office</th>\n",
       "      <th>runtime</th>\n",
       "      <th>studio</th>\n",
       "      <th>new_theater_date</th>\n",
       "    </tr>\n",
       "  </thead>\n",
       "  <tbody>\n",
       "    <tr>\n",
       "      <th>0</th>\n",
       "      <td>1</td>\n",
       "      <td>This gritty, fast-paced, and innovative police...</td>\n",
       "      <td>R</td>\n",
       "      <td>Action and Adventure|Classics|Drama</td>\n",
       "      <td>William Friedkin</td>\n",
       "      <td>Ernest Tidyman</td>\n",
       "      <td>Oct 9, 1971</td>\n",
       "      <td>Sep 25, 2001</td>\n",
       "      <td>NaN</td>\n",
       "      <td>NaN</td>\n",
       "      <td>104 minutes</td>\n",
       "      <td>NaN</td>\n",
       "      <td>1971.0</td>\n",
       "    </tr>\n",
       "    <tr>\n",
       "      <th>1</th>\n",
       "      <td>3</td>\n",
       "      <td>New York City, not-too-distant-future: Eric Pa...</td>\n",
       "      <td>R</td>\n",
       "      <td>Drama|Science Fiction and Fantasy</td>\n",
       "      <td>David Cronenberg</td>\n",
       "      <td>David Cronenberg|Don DeLillo</td>\n",
       "      <td>Aug 17, 2012</td>\n",
       "      <td>Jan 1, 2013</td>\n",
       "      <td>$</td>\n",
       "      <td>600,000</td>\n",
       "      <td>108 minutes</td>\n",
       "      <td>Entertainment One</td>\n",
       "      <td>2012.0</td>\n",
       "    </tr>\n",
       "    <tr>\n",
       "      <th>2</th>\n",
       "      <td>5</td>\n",
       "      <td>Illeana Douglas delivers a superb performance ...</td>\n",
       "      <td>R</td>\n",
       "      <td>Drama|Musical and Performing Arts</td>\n",
       "      <td>Allison Anders</td>\n",
       "      <td>Allison Anders</td>\n",
       "      <td>Sep 13, 1996</td>\n",
       "      <td>Apr 18, 2000</td>\n",
       "      <td>NaN</td>\n",
       "      <td>NaN</td>\n",
       "      <td>116 minutes</td>\n",
       "      <td>NaN</td>\n",
       "      <td>1996.0</td>\n",
       "    </tr>\n",
       "    <tr>\n",
       "      <th>3</th>\n",
       "      <td>6</td>\n",
       "      <td>Michael Douglas runs afoul of a treacherous su...</td>\n",
       "      <td>R</td>\n",
       "      <td>Drama|Mystery and Suspense</td>\n",
       "      <td>Barry Levinson</td>\n",
       "      <td>Paul Attanasio|Michael Crichton</td>\n",
       "      <td>Dec 9, 1994</td>\n",
       "      <td>Aug 27, 1997</td>\n",
       "      <td>NaN</td>\n",
       "      <td>NaN</td>\n",
       "      <td>128 minutes</td>\n",
       "      <td>NaN</td>\n",
       "      <td>1994.0</td>\n",
       "    </tr>\n",
       "    <tr>\n",
       "      <th>4</th>\n",
       "      <td>7</td>\n",
       "      <td>NaN</td>\n",
       "      <td>NR</td>\n",
       "      <td>Drama|Romance</td>\n",
       "      <td>Rodney Bennett</td>\n",
       "      <td>Giles Cooper</td>\n",
       "      <td>NaN</td>\n",
       "      <td>NaN</td>\n",
       "      <td>NaN</td>\n",
       "      <td>NaN</td>\n",
       "      <td>200 minutes</td>\n",
       "      <td>NaN</td>\n",
       "      <td>NaN</td>\n",
       "    </tr>\n",
       "  </tbody>\n",
       "</table>\n",
       "</div>"
      ],
      "text/plain": [
       "   id                                           synopsis rating  \\\n",
       "0   1  This gritty, fast-paced, and innovative police...      R   \n",
       "1   3  New York City, not-too-distant-future: Eric Pa...      R   \n",
       "2   5  Illeana Douglas delivers a superb performance ...      R   \n",
       "3   6  Michael Douglas runs afoul of a treacherous su...      R   \n",
       "4   7                                                NaN     NR   \n",
       "\n",
       "                                 genre          director  \\\n",
       "0  Action and Adventure|Classics|Drama  William Friedkin   \n",
       "1    Drama|Science Fiction and Fantasy  David Cronenberg   \n",
       "2    Drama|Musical and Performing Arts    Allison Anders   \n",
       "3           Drama|Mystery and Suspense    Barry Levinson   \n",
       "4                        Drama|Romance    Rodney Bennett   \n",
       "\n",
       "                            writer  theater_date      dvd_date currency  \\\n",
       "0                   Ernest Tidyman   Oct 9, 1971  Sep 25, 2001      NaN   \n",
       "1     David Cronenberg|Don DeLillo  Aug 17, 2012   Jan 1, 2013        $   \n",
       "2                   Allison Anders  Sep 13, 1996  Apr 18, 2000      NaN   \n",
       "3  Paul Attanasio|Michael Crichton   Dec 9, 1994  Aug 27, 1997      NaN   \n",
       "4                     Giles Cooper           NaN           NaN      NaN   \n",
       "\n",
       "  box_office      runtime             studio  new_theater_date  \n",
       "0        NaN  104 minutes                NaN            1971.0  \n",
       "1    600,000  108 minutes  Entertainment One            2012.0  \n",
       "2        NaN  116 minutes                NaN            1996.0  \n",
       "3        NaN  128 minutes                NaN            1994.0  \n",
       "4        NaN  200 minutes                NaN               NaN  "
      ]
     },
     "execution_count": 29,
     "metadata": {},
     "output_type": "execute_result"
    }
   ],
   "source": [
    "df_rt_movie_info.head()"
   ]
  },
  {
   "cell_type": "code",
   "execution_count": 38,
   "metadata": {},
   "outputs": [],
   "source": [
    "new_rt_movie_info= pd.DataFrame(zip(df_rt_movie_info.id, df_rt_movie_info.genre,df_rt_movie_info.runtime,df_rt_movie_info.new_theater_date))"
   ]
  },
  {
   "cell_type": "code",
   "execution_count": 39,
   "metadata": {},
   "outputs": [
    {
     "data": {
      "text/html": [
       "<div>\n",
       "<style scoped>\n",
       "    .dataframe tbody tr th:only-of-type {\n",
       "        vertical-align: middle;\n",
       "    }\n",
       "\n",
       "    .dataframe tbody tr th {\n",
       "        vertical-align: top;\n",
       "    }\n",
       "\n",
       "    .dataframe thead th {\n",
       "        text-align: right;\n",
       "    }\n",
       "</style>\n",
       "<table border=\"1\" class=\"dataframe\">\n",
       "  <thead>\n",
       "    <tr style=\"text-align: right;\">\n",
       "      <th></th>\n",
       "      <th>0</th>\n",
       "      <th>1</th>\n",
       "      <th>2</th>\n",
       "      <th>3</th>\n",
       "    </tr>\n",
       "  </thead>\n",
       "  <tbody>\n",
       "    <tr>\n",
       "      <th>0</th>\n",
       "      <td>1</td>\n",
       "      <td>Action and Adventure|Classics|Drama</td>\n",
       "      <td>104 minutes</td>\n",
       "      <td>1971.0</td>\n",
       "    </tr>\n",
       "    <tr>\n",
       "      <th>1</th>\n",
       "      <td>3</td>\n",
       "      <td>Drama|Science Fiction and Fantasy</td>\n",
       "      <td>108 minutes</td>\n",
       "      <td>2012.0</td>\n",
       "    </tr>\n",
       "    <tr>\n",
       "      <th>2</th>\n",
       "      <td>5</td>\n",
       "      <td>Drama|Musical and Performing Arts</td>\n",
       "      <td>116 minutes</td>\n",
       "      <td>1996.0</td>\n",
       "    </tr>\n",
       "    <tr>\n",
       "      <th>3</th>\n",
       "      <td>6</td>\n",
       "      <td>Drama|Mystery and Suspense</td>\n",
       "      <td>128 minutes</td>\n",
       "      <td>1994.0</td>\n",
       "    </tr>\n",
       "    <tr>\n",
       "      <th>4</th>\n",
       "      <td>7</td>\n",
       "      <td>Drama|Romance</td>\n",
       "      <td>200 minutes</td>\n",
       "      <td>NaN</td>\n",
       "    </tr>\n",
       "  </tbody>\n",
       "</table>\n",
       "</div>"
      ],
      "text/plain": [
       "   0                                    1            2       3\n",
       "0  1  Action and Adventure|Classics|Drama  104 minutes  1971.0\n",
       "1  3    Drama|Science Fiction and Fantasy  108 minutes  2012.0\n",
       "2  5    Drama|Musical and Performing Arts  116 minutes  1996.0\n",
       "3  6           Drama|Mystery and Suspense  128 minutes  1994.0\n",
       "4  7                        Drama|Romance  200 minutes     NaN"
      ]
     },
     "execution_count": 39,
     "metadata": {},
     "output_type": "execute_result"
    }
   ],
   "source": [
    "new_rt_movie_info.head()"
   ]
  },
  {
   "cell_type": "code",
   "execution_count": 40,
   "metadata": {},
   "outputs": [],
   "source": [
    "# Rename the columns back to original names\n",
    "new_rt_movie_info.rename(columns={0: 'id', 1: 'genres',2: 'runtime',3:'release_year'}, inplace=True)"
   ]
  },
  {
   "cell_type": "code",
   "execution_count": 41,
   "metadata": {},
   "outputs": [
    {
     "data": {
      "text/html": [
       "<div>\n",
       "<style scoped>\n",
       "    .dataframe tbody tr th:only-of-type {\n",
       "        vertical-align: middle;\n",
       "    }\n",
       "\n",
       "    .dataframe tbody tr th {\n",
       "        vertical-align: top;\n",
       "    }\n",
       "\n",
       "    .dataframe thead th {\n",
       "        text-align: right;\n",
       "    }\n",
       "</style>\n",
       "<table border=\"1\" class=\"dataframe\">\n",
       "  <thead>\n",
       "    <tr style=\"text-align: right;\">\n",
       "      <th></th>\n",
       "      <th>id</th>\n",
       "      <th>genres</th>\n",
       "      <th>runtime</th>\n",
       "      <th>release_year</th>\n",
       "    </tr>\n",
       "  </thead>\n",
       "  <tbody>\n",
       "    <tr>\n",
       "      <th>0</th>\n",
       "      <td>1</td>\n",
       "      <td>Action and Adventure|Classics|Drama</td>\n",
       "      <td>104 minutes</td>\n",
       "      <td>1971.0</td>\n",
       "    </tr>\n",
       "    <tr>\n",
       "      <th>1</th>\n",
       "      <td>3</td>\n",
       "      <td>Drama|Science Fiction and Fantasy</td>\n",
       "      <td>108 minutes</td>\n",
       "      <td>2012.0</td>\n",
       "    </tr>\n",
       "    <tr>\n",
       "      <th>2</th>\n",
       "      <td>5</td>\n",
       "      <td>Drama|Musical and Performing Arts</td>\n",
       "      <td>116 minutes</td>\n",
       "      <td>1996.0</td>\n",
       "    </tr>\n",
       "    <tr>\n",
       "      <th>3</th>\n",
       "      <td>6</td>\n",
       "      <td>Drama|Mystery and Suspense</td>\n",
       "      <td>128 minutes</td>\n",
       "      <td>1994.0</td>\n",
       "    </tr>\n",
       "    <tr>\n",
       "      <th>4</th>\n",
       "      <td>7</td>\n",
       "      <td>Drama|Romance</td>\n",
       "      <td>200 minutes</td>\n",
       "      <td>NaN</td>\n",
       "    </tr>\n",
       "  </tbody>\n",
       "</table>\n",
       "</div>"
      ],
      "text/plain": [
       "   id                               genres      runtime  release_year\n",
       "0   1  Action and Adventure|Classics|Drama  104 minutes        1971.0\n",
       "1   3    Drama|Science Fiction and Fantasy  108 minutes        2012.0\n",
       "2   5    Drama|Musical and Performing Arts  116 minutes        1996.0\n",
       "3   6           Drama|Mystery and Suspense  128 minutes        1994.0\n",
       "4   7                        Drama|Romance  200 minutes           NaN"
      ]
     },
     "execution_count": 41,
     "metadata": {},
     "output_type": "execute_result"
    }
   ],
   "source": [
    "new_rt_movie_info.head()"
   ]
  },
  {
   "cell_type": "code",
   "execution_count": 43,
   "metadata": {},
   "outputs": [],
   "source": [
    "# left joining the new_rt_movie_info to new_rt_reviews\n",
    "merged_datasets = pd.merge(new_rt_reviews,new_rt_movie_info,on='id',how='left')"
   ]
  },
  {
   "cell_type": "code",
   "execution_count": 44,
   "metadata": {},
   "outputs": [
    {
     "data": {
      "text/html": [
       "<div>\n",
       "<style scoped>\n",
       "    .dataframe tbody tr th:only-of-type {\n",
       "        vertical-align: middle;\n",
       "    }\n",
       "\n",
       "    .dataframe tbody tr th {\n",
       "        vertical-align: top;\n",
       "    }\n",
       "\n",
       "    .dataframe thead th {\n",
       "        text-align: right;\n",
       "    }\n",
       "</style>\n",
       "<table border=\"1\" class=\"dataframe\">\n",
       "  <thead>\n",
       "    <tr style=\"text-align: right;\">\n",
       "      <th></th>\n",
       "      <th>id</th>\n",
       "      <th>rating</th>\n",
       "      <th>genres</th>\n",
       "      <th>runtime</th>\n",
       "      <th>release_year</th>\n",
       "    </tr>\n",
       "  </thead>\n",
       "  <tbody>\n",
       "    <tr>\n",
       "      <th>0</th>\n",
       "      <td>3</td>\n",
       "      <td>0.6000</td>\n",
       "      <td>Drama|Science Fiction and Fantasy</td>\n",
       "      <td>108 minutes</td>\n",
       "      <td>2012.0</td>\n",
       "    </tr>\n",
       "    <tr>\n",
       "      <th>1</th>\n",
       "      <td>3</td>\n",
       "      <td>0.5338</td>\n",
       "      <td>Drama|Science Fiction and Fantasy</td>\n",
       "      <td>108 minutes</td>\n",
       "      <td>2012.0</td>\n",
       "    </tr>\n",
       "    <tr>\n",
       "      <th>2</th>\n",
       "      <td>3</td>\n",
       "      <td>0.4000</td>\n",
       "      <td>Drama|Science Fiction and Fantasy</td>\n",
       "      <td>108 minutes</td>\n",
       "      <td>2012.0</td>\n",
       "    </tr>\n",
       "    <tr>\n",
       "      <th>3</th>\n",
       "      <td>3</td>\n",
       "      <td>0.6670</td>\n",
       "      <td>Drama|Science Fiction and Fantasy</td>\n",
       "      <td>108 minutes</td>\n",
       "      <td>2012.0</td>\n",
       "    </tr>\n",
       "    <tr>\n",
       "      <th>4</th>\n",
       "      <td>3</td>\n",
       "      <td>0.5000</td>\n",
       "      <td>Drama|Science Fiction and Fantasy</td>\n",
       "      <td>108 minutes</td>\n",
       "      <td>2012.0</td>\n",
       "    </tr>\n",
       "  </tbody>\n",
       "</table>\n",
       "</div>"
      ],
      "text/plain": [
       "   id  rating                             genres      runtime  release_year\n",
       "0   3  0.6000  Drama|Science Fiction and Fantasy  108 minutes        2012.0\n",
       "1   3  0.5338  Drama|Science Fiction and Fantasy  108 minutes        2012.0\n",
       "2   3  0.4000  Drama|Science Fiction and Fantasy  108 minutes        2012.0\n",
       "3   3  0.6670  Drama|Science Fiction and Fantasy  108 minutes        2012.0\n",
       "4   3  0.5000  Drama|Science Fiction and Fantasy  108 minutes        2012.0"
      ]
     },
     "execution_count": 44,
     "metadata": {},
     "output_type": "execute_result"
    }
   ],
   "source": [
    "merged_datasets.head()"
   ]
  },
  {
   "cell_type": "code",
   "execution_count": 45,
   "metadata": {},
   "outputs": [],
   "source": [
    "# first step in splitting the genres of each row into separate rows for each genre of each movie: \n",
    "# we are creating a list out of each genres string such as this: 'Action and Adventure|Classics|Drama'\n",
    "merged_datasets['genres']=merged_datasets['genres'].str.split('|')"
   ]
  },
  {
   "cell_type": "code",
   "execution_count": 46,
   "metadata": {},
   "outputs": [],
   "source": [
    "# second step in splitting the genres of each row into separate rows for each genre of each movie: \n",
    "merged_datasets = merged_datasets.explode('genres')"
   ]
  },
  {
   "cell_type": "code",
   "execution_count": 47,
   "metadata": {},
   "outputs": [],
   "source": [
    "# getting rid of text characters in the 'runtime' column \n",
    "merged_datasets['runtime'] = merged_datasets['runtime'].str.replace(' minutes','')"
   ]
  },
  {
   "cell_type": "code",
   "execution_count": 48,
   "metadata": {},
   "outputs": [],
   "source": [
    "# Convert the 'runtime' column's string values into floats\n",
    "merged_datasets['runtime'] = pd.to_numeric(merged_datasets['runtime'])"
   ]
  },
  {
   "cell_type": "code",
   "execution_count": 49,
   "metadata": {},
   "outputs": [
    {
     "name": "stdout",
     "output_type": "stream",
     "text": [
      "<class 'pandas.core.frame.DataFrame'>\n",
      "Int64Index: 88969 entries, 0 to 40284\n",
      "Data columns (total 5 columns):\n",
      " #   Column        Non-Null Count  Dtype  \n",
      "---  ------        --------------  -----  \n",
      " 0   id            88969 non-null  int64  \n",
      " 1   rating        88969 non-null  float64\n",
      " 2   genres        88896 non-null  object \n",
      " 3   runtime       87648 non-null  float64\n",
      " 4   release_year  87190 non-null  float64\n",
      "dtypes: float64(3), int64(1), object(1)\n",
      "memory usage: 4.1+ MB\n"
     ]
    }
   ],
   "source": [
    "merged_datasets.info()"
   ]
  },
  {
   "cell_type": "markdown",
   "metadata": {},
   "source": [
    "### movie genre trends over the years"
   ]
  },
  {
   "cell_type": "code",
   "execution_count": 50,
   "metadata": {},
   "outputs": [
    {
     "data": {
      "text/plain": [
       "Drama                          24708\n",
       "Comedy                         16177\n",
       "Action and Adventure            9687\n",
       "Mystery and Suspense            8717\n",
       "Romance                         6000\n",
       "Science Fiction and Fantasy     5442\n",
       "Kids and Family                 3483\n",
       "Art House and International     3304\n",
       "Horror                          3179\n",
       "Animation                       2009\n",
       "Musical and Performing Arts     1558\n",
       "Classics                        1531\n",
       "Western                          899\n",
       "Documentary                      845\n",
       "Special Interest                 644\n",
       "Sports and Fitness               313\n",
       "Television                       158\n",
       "Faith and Spirituality           149\n",
       "Cult Movies                       38\n",
       "Gay and Lesbian                   31\n",
       "Anime and Manga                   24\n",
       "Name: genres, dtype: int64"
      ]
     },
     "execution_count": 50,
     "metadata": {},
     "output_type": "execute_result"
    }
   ],
   "source": [
    "merged_datasets['genres'].value_counts()"
   ]
  },
  {
   "cell_type": "code",
   "execution_count": 51,
   "metadata": {},
   "outputs": [],
   "source": [
    "merged_datasets = merged_datasets[merged_datasets['release_year']>1999]"
   ]
  },
  {
   "cell_type": "code",
   "execution_count": 52,
   "metadata": {},
   "outputs": [
    {
     "data": {
      "text/plain": [
       "2003.0    5130\n",
       "2002.0    4823\n",
       "2004.0    4587\n",
       "2007.0    4438\n",
       "2005.0    4323\n",
       "2011.0    4311\n",
       "2009.0    4271\n",
       "2000.0    3947\n",
       "2006.0    3780\n",
       "2010.0    3670\n",
       "2008.0    3496\n",
       "2018.0    2884\n",
       "2012.0    2870\n",
       "2001.0    2515\n",
       "2016.0    2472\n",
       "2014.0    2338\n",
       "2015.0    2323\n",
       "2017.0    1776\n",
       "2013.0    1543\n",
       "Name: release_year, dtype: int64"
      ]
     },
     "execution_count": 52,
     "metadata": {},
     "output_type": "execute_result"
    }
   ],
   "source": [
    "merged_datasets['release_year'].value_counts()"
   ]
  },
  {
   "cell_type": "code",
   "execution_count": 53,
   "metadata": {},
   "outputs": [],
   "source": [
    "merged_datasets_drama = merged_datasets[merged_datasets['genres']=='Drama']"
   ]
  },
  {
   "cell_type": "code",
   "execution_count": 54,
   "metadata": {},
   "outputs": [],
   "source": [
    "merged_datasets_comedy = merged_datasets[merged_datasets['genres']=='Comedy']"
   ]
  },
  {
   "cell_type": "code",
   "execution_count": 55,
   "metadata": {},
   "outputs": [],
   "source": [
    "merged_datasets_action_adv= merged_datasets[merged_datasets['genres']=='Action and Adventure']"
   ]
  },
  {
   "cell_type": "code",
   "execution_count": 56,
   "metadata": {},
   "outputs": [],
   "source": [
    "merged_datasets_animation= merged_datasets[merged_datasets['genres']=='Animation']"
   ]
  },
  {
   "cell_type": "code",
   "execution_count": 57,
   "metadata": {},
   "outputs": [],
   "source": [
    "merged_datasets_romance= merged_datasets[merged_datasets['genres']=='Romance']"
   ]
  },
  {
   "cell_type": "code",
   "execution_count": 58,
   "metadata": {},
   "outputs": [],
   "source": [
    "df_drama = merged_datasets_drama.groupby('release_year')['genres'].value_counts()"
   ]
  },
  {
   "cell_type": "code",
   "execution_count": 59,
   "metadata": {},
   "outputs": [],
   "source": [
    "df_comedy = merged_datasets_comedy.groupby('release_year')['genres'].value_counts()"
   ]
  },
  {
   "cell_type": "code",
   "execution_count": 60,
   "metadata": {},
   "outputs": [],
   "source": [
    "df_action_adv = merged_datasets_action_adv.groupby('release_year')['genres'].value_counts()"
   ]
  },
  {
   "cell_type": "code",
   "execution_count": 61,
   "metadata": {},
   "outputs": [],
   "source": [
    "df_animation = merged_datasets_animation.groupby('release_year')['genres'].value_counts()"
   ]
  },
  {
   "cell_type": "code",
   "execution_count": 62,
   "metadata": {},
   "outputs": [],
   "source": [
    "df_romance = merged_datasets_romance.groupby('release_year')['genres'].value_counts()"
   ]
  },
  {
   "cell_type": "code",
   "execution_count": 63,
   "metadata": {},
   "outputs": [],
   "source": [
    "mylist_drama = df_drama.to_list()"
   ]
  },
  {
   "cell_type": "code",
   "execution_count": 64,
   "metadata": {},
   "outputs": [],
   "source": [
    "mylist_comedy = df_comedy.to_list()"
   ]
  },
  {
   "cell_type": "code",
   "execution_count": 65,
   "metadata": {},
   "outputs": [],
   "source": [
    "mylist_action_adv = df_action_adv.to_list()"
   ]
  },
  {
   "cell_type": "code",
   "execution_count": 66,
   "metadata": {},
   "outputs": [],
   "source": [
    "mylist_action_adv = [528,241,504,385,598,916,607,534,566,451,435,501,516,25,0,112,131,11,366]"
   ]
  },
  {
   "cell_type": "code",
   "execution_count": 67,
   "metadata": {},
   "outputs": [],
   "source": [
    "mylist_animation = df_animation.to_list()"
   ]
  },
  {
   "cell_type": "code",
   "execution_count": 68,
   "metadata": {},
   "outputs": [],
   "source": [
    "mylist_animation = [85, 76, 99, 53, 160, 66, 71, 129, 189, 164, 16, 213,0,0,0, 48, 234, 39, 92]"
   ]
  },
  {
   "cell_type": "code",
   "execution_count": 69,
   "metadata": {},
   "outputs": [],
   "source": [
    "mylist_romance = df_romance.to_list()"
   ]
  },
  {
   "cell_type": "code",
   "execution_count": 70,
   "metadata": {},
   "outputs": [],
   "source": [
    "mylist_romance = [141,175,498,428,154,458,248,410,307,119,480,334,0,65,94,248,147,165,170]"
   ]
  },
  {
   "cell_type": "code",
   "execution_count": 71,
   "metadata": {},
   "outputs": [],
   "source": [
    "years_list = list(range(2000,2019))"
   ]
  },
  {
   "cell_type": "code",
   "execution_count": 72,
   "metadata": {},
   "outputs": [],
   "source": [
    "from matplotlib.pyplot import figure"
   ]
  },
  {
   "cell_type": "code",
   "execution_count": 73,
   "metadata": {},
   "outputs": [
    {
     "data": {
      "text/plain": [
       "Text(0, 0.5, 'number of movies produced')"
      ]
     },
     "execution_count": 73,
     "metadata": {},
     "output_type": "execute_result"
    },
    {
     "data": {
      "image/png": "[encoded data removed]",
      "text/plain": [
       "<Figure size 2160x1080 with 1 Axes>"
      ]
     },
     "metadata": {
      "needs_background": "light"
     },
     "output_type": "display_data"
    }
   ],
   "source": [
    "plt.figure(figsize=(30, 15))\n",
    "plt.plot( years_list, mylist_drama, marker='o', markerfacecolor='blue', markersize=5, color='skyblue', linewidth=3,label=\"drama\")\n",
    "plt.plot( years_list, mylist_comedy, marker='o', color='orange', linewidth=2,label = 'comedy')\n",
    "plt.plot( years_list, mylist_action_adv, marker='o', color='fuchsia', linewidth=2, linestyle='solid', label=\"action\")\n",
    "plt.plot( years_list, mylist_animation, marker='o', color='purple', linewidth=2, linestyle='dashdot', label=\"animation\")\n",
    "plt.plot( years_list, mylist_romance, marker='o', color='green', linewidth=2,linestyle='dashed', label = 'romance')\n",
    "plt.legend(borderpad = 2,prop={\"size\":20})\n",
    "plt.xticks(fontsize=16)\n",
    "plt.yticks(fontsize=16)\n",
    "plt.locator_params(axis=\"x\", nbins=10)\n",
    "plt.title(\"Movie Genres Trend Over the Years\", fontsize=30)\n",
    "plt.xlabel(\"years\",fontsize=20)\n",
    "plt.ylabel(\"number of movies produced\",fontsize=20)\n",
    "\n"
   ]
  },
  {
   "cell_type": "code",
   "execution_count": 79,
   "metadata": {},
   "outputs": [
    {
     "data": {
      "text/plain": [
       "Drama                          18624\n",
       "Comedy                         12088\n",
       "Action and Adventure            7427\n",
       "Mystery and Suspense            6439\n",
       "Romance                         4641\n",
       "Science Fiction and Fantasy     3722\n",
       "Kids and Family                 2690\n",
       "Horror                          2381\n",
       "Art House and International     2250\n",
       "Animation                       1734\n",
       "Musical and Performing Arts     1051\n",
       "Documentary                      650\n",
       "Western                          578\n",
       "Special Interest                 450\n",
       "Sports and Fitness               257\n",
       "Classics                         238\n",
       "Television                       132\n",
       "Faith and Spirituality           127\n",
       "Anime and Manga                   18\n",
       "Name: genres, dtype: int64"
      ]
     },
     "execution_count": 79,
     "metadata": {},
     "output_type": "execute_result"
    }
   ],
   "source": [
    "merged_datasets['genres'].value_counts()\n",
    "# the value count of movies by genre. The last four genre categories are too low in numbers compared to\n",
    "# other movie genres\n",
    "# We think it is best to remove them from our dataset"
   ]
  },
  {
   "cell_type": "markdown",
   "metadata": {},
   "source": [
    "**Observations & Insights:**\n",
    "<ul>\n",
    "</ul>\n",
    "<li>The last four genre categories are too low in numbers compared to other movie genres.\n",
    "<li>We think it is best to remove them from our dataset."
   ]
  },
  {
   "cell_type": "code",
   "execution_count": 74,
   "metadata": {},
   "outputs": [],
   "source": [
    "# Create a list of genres that are not statistically significant\n",
    "not_significant_genres_list = ['Anime and Manga','Gay and Lesbian','Cult Movies','Faith and Spirituality','Television','Sports and Fitness','Documentary','Western','Special Interest']"
   ]
  },
  {
   "cell_type": "code",
   "execution_count": 75,
   "metadata": {},
   "outputs": [],
   "source": [
    "# Delete the not statistically insignificant genres from the dataset and creating a new dataset without those genres\n",
    "new_merged_datasets = merged_datasets[~merged_datasets.genres.isin(not_significant_genres_list)]"
   ]
  },
  {
   "cell_type": "code",
   "execution_count": 76,
   "metadata": {},
   "outputs": [
    {
     "data": {
      "text/html": [
       "<div>\n",
       "<style scoped>\n",
       "    .dataframe tbody tr th:only-of-type {\n",
       "        vertical-align: middle;\n",
       "    }\n",
       "\n",
       "    .dataframe tbody tr th {\n",
       "        vertical-align: top;\n",
       "    }\n",
       "\n",
       "    .dataframe thead th {\n",
       "        text-align: right;\n",
       "    }\n",
       "</style>\n",
       "<table border=\"1\" class=\"dataframe\">\n",
       "  <thead>\n",
       "    <tr style=\"text-align: right;\">\n",
       "      <th></th>\n",
       "      <th>genres</th>\n",
       "      <th>runtime</th>\n",
       "    </tr>\n",
       "  </thead>\n",
       "  <tbody>\n",
       "    <tr>\n",
       "      <th>0</th>\n",
       "      <td>Action and Adventure</td>\n",
       "      <td>112.473344</td>\n",
       "    </tr>\n",
       "    <tr>\n",
       "      <th>1</th>\n",
       "      <td>Animation</td>\n",
       "      <td>94.171280</td>\n",
       "    </tr>\n",
       "    <tr>\n",
       "      <th>2</th>\n",
       "      <td>Art House and International</td>\n",
       "      <td>111.512444</td>\n",
       "    </tr>\n",
       "    <tr>\n",
       "      <th>3</th>\n",
       "      <td>Classics</td>\n",
       "      <td>176.436975</td>\n",
       "    </tr>\n",
       "    <tr>\n",
       "      <th>4</th>\n",
       "      <td>Comedy</td>\n",
       "      <td>102.869470</td>\n",
       "    </tr>\n",
       "    <tr>\n",
       "      <th>5</th>\n",
       "      <td>Drama</td>\n",
       "      <td>113.574733</td>\n",
       "    </tr>\n",
       "    <tr>\n",
       "      <th>6</th>\n",
       "      <td>Horror</td>\n",
       "      <td>101.153846</td>\n",
       "    </tr>\n",
       "    <tr>\n",
       "      <th>7</th>\n",
       "      <td>Kids and Family</td>\n",
       "      <td>100.543093</td>\n",
       "    </tr>\n",
       "    <tr>\n",
       "      <th>8</th>\n",
       "      <td>Musical and Performing Arts</td>\n",
       "      <td>110.934348</td>\n",
       "    </tr>\n",
       "    <tr>\n",
       "      <th>9</th>\n",
       "      <td>Mystery and Suspense</td>\n",
       "      <td>111.593186</td>\n",
       "    </tr>\n",
       "    <tr>\n",
       "      <th>10</th>\n",
       "      <td>Romance</td>\n",
       "      <td>112.731308</td>\n",
       "    </tr>\n",
       "    <tr>\n",
       "      <th>11</th>\n",
       "      <td>Science Fiction and Fantasy</td>\n",
       "      <td>114.850601</td>\n",
       "    </tr>\n",
       "  </tbody>\n",
       "</table>\n",
       "</div>"
      ],
      "text/plain": [
       "                         genres     runtime\n",
       "0          Action and Adventure  112.473344\n",
       "1                     Animation   94.171280\n",
       "2   Art House and International  111.512444\n",
       "3                      Classics  176.436975\n",
       "4                        Comedy  102.869470\n",
       "5                         Drama  113.574733\n",
       "6                        Horror  101.153846\n",
       "7               Kids and Family  100.543093\n",
       "8   Musical and Performing Arts  110.934348\n",
       "9          Mystery and Suspense  111.593186\n",
       "10                      Romance  112.731308\n",
       "11  Science Fiction and Fantasy  114.850601"
      ]
     },
     "execution_count": 76,
     "metadata": {},
     "output_type": "execute_result"
    }
   ],
   "source": [
    "# Find the mean of runtime for each genre\n",
    "average_runtime_per_genre = new_merged_datasets.groupby('genres', as_index=False)['runtime'].mean()\n",
    "average_runtime_per_genre"
   ]
  },
  {
   "cell_type": "code",
   "execution_count": 81,
   "metadata": {},
   "outputs": [],
   "source": [
    "# rename the 'runtime' column into the 'mean_runtime'\n",
    "average_runtime_per_genre.rename(columns={'runtime': 'mean_runtime'}, inplace=True)"
   ]
  },
  {
   "cell_type": "code",
   "execution_count": 77,
   "metadata": {},
   "outputs": [
    {
     "data": {
      "text/html": [
       "<div>\n",
       "<style scoped>\n",
       "    .dataframe tbody tr th:only-of-type {\n",
       "        vertical-align: middle;\n",
       "    }\n",
       "\n",
       "    .dataframe tbody tr th {\n",
       "        vertical-align: top;\n",
       "    }\n",
       "\n",
       "    .dataframe thead th {\n",
       "        text-align: right;\n",
       "    }\n",
       "</style>\n",
       "<table border=\"1\" class=\"dataframe\">\n",
       "  <thead>\n",
       "    <tr style=\"text-align: right;\">\n",
       "      <th></th>\n",
       "      <th>genres</th>\n",
       "      <th>rating</th>\n",
       "    </tr>\n",
       "  </thead>\n",
       "  <tbody>\n",
       "    <tr>\n",
       "      <th>0</th>\n",
       "      <td>Action and Adventure</td>\n",
       "      <td>0.610588</td>\n",
       "    </tr>\n",
       "    <tr>\n",
       "      <th>1</th>\n",
       "      <td>Animation</td>\n",
       "      <td>0.636965</td>\n",
       "    </tr>\n",
       "    <tr>\n",
       "      <th>2</th>\n",
       "      <td>Art House and International</td>\n",
       "      <td>0.690348</td>\n",
       "    </tr>\n",
       "    <tr>\n",
       "      <th>3</th>\n",
       "      <td>Classics</td>\n",
       "      <td>0.600697</td>\n",
       "    </tr>\n",
       "    <tr>\n",
       "      <th>4</th>\n",
       "      <td>Comedy</td>\n",
       "      <td>0.610432</td>\n",
       "    </tr>\n",
       "    <tr>\n",
       "      <th>5</th>\n",
       "      <td>Drama</td>\n",
       "      <td>0.652974</td>\n",
       "    </tr>\n",
       "    <tr>\n",
       "      <th>6</th>\n",
       "      <td>Horror</td>\n",
       "      <td>0.535693</td>\n",
       "    </tr>\n",
       "    <tr>\n",
       "      <th>7</th>\n",
       "      <td>Kids and Family</td>\n",
       "      <td>0.620816</td>\n",
       "    </tr>\n",
       "    <tr>\n",
       "      <th>8</th>\n",
       "      <td>Musical and Performing Arts</td>\n",
       "      <td>0.616709</td>\n",
       "    </tr>\n",
       "    <tr>\n",
       "      <th>9</th>\n",
       "      <td>Mystery and Suspense</td>\n",
       "      <td>0.620616</td>\n",
       "    </tr>\n",
       "    <tr>\n",
       "      <th>10</th>\n",
       "      <td>Romance</td>\n",
       "      <td>0.652658</td>\n",
       "    </tr>\n",
       "    <tr>\n",
       "      <th>11</th>\n",
       "      <td>Science Fiction and Fantasy</td>\n",
       "      <td>0.577216</td>\n",
       "    </tr>\n",
       "  </tbody>\n",
       "</table>\n",
       "</div>"
      ],
      "text/plain": [
       "                         genres    rating\n",
       "0          Action and Adventure  0.610588\n",
       "1                     Animation  0.636965\n",
       "2   Art House and International  0.690348\n",
       "3                      Classics  0.600697\n",
       "4                        Comedy  0.610432\n",
       "5                         Drama  0.652974\n",
       "6                        Horror  0.535693\n",
       "7               Kids and Family  0.620816\n",
       "8   Musical and Performing Arts  0.616709\n",
       "9          Mystery and Suspense  0.620616\n",
       "10                      Romance  0.652658\n",
       "11  Science Fiction and Fantasy  0.577216"
      ]
     },
     "execution_count": 77,
     "metadata": {},
     "output_type": "execute_result"
    }
   ],
   "source": [
    "# Find the mean of the ratings for each genre\n",
    "average_rating_per_genre = new_merged_datasets.groupby('genres', as_index=False)['rating'].mean()\n",
    "average_rating_per_genre"
   ]
  },
  {
   "cell_type": "code",
   "execution_count": 82,
   "metadata": {},
   "outputs": [],
   "source": [
    "# rename the \"rating\" column into the 'mean_rating'\n",
    "average_rating_per_genre.rename(columns={'rating': 'mean_rating'}, inplace=True)"
   ]
  },
  {
   "cell_type": "code",
   "execution_count": 83,
   "metadata": {},
   "outputs": [
    {
     "data": {
      "text/plain": [
       "([0, 1, 2, 3, 4, 5, 6, 7, 8, 9, 10, 11],\n",
       " [Text(0, 0, ''),\n",
       "  Text(0, 0, ''),\n",
       "  Text(0, 0, ''),\n",
       "  Text(0, 0, ''),\n",
       "  Text(0, 0, ''),\n",
       "  Text(0, 0, ''),\n",
       "  Text(0, 0, ''),\n",
       "  Text(0, 0, ''),\n",
       "  Text(0, 0, ''),\n",
       "  Text(0, 0, ''),\n",
       "  Text(0, 0, ''),\n",
       "  Text(0, 0, '')])"
      ]
     },
     "execution_count": 83,
     "metadata": {},
     "output_type": "execute_result"
    },
    {
     "data": {
      "image/png": "[encoded data removed]",
      "text/plain": [
       "<Figure size 1440x576 with 1 Axes>"
      ]
     },
     "metadata": {
      "needs_background": "light"
     },
     "output_type": "display_data"
    }
   ],
   "source": [
    "fig, ax1 = plt.subplots(figsize = (20,8))\n",
    "x1 = average_rating_per_genre['genres']\n",
    "y1 = average_rating_per_genre['mean_rating']\n",
    "ax1.bar(x1,y1)\n",
    "ax1.set_title('average rating per genre')\n",
    "ax1.set_xlabel('genres')\n",
    "ax1.set_ylabel('average rating')\n",
    "plt.xticks(rotation = 45)"
   ]
  },
  {
   "cell_type": "markdown",
   "metadata": {},
   "source": [
    "**Observations & Insights:**\n",
    "<ul>\n",
    "</ul>\n",
    "The 4 genres that have the highest average ratings:\n",
    "        <li> Romance </li>\n",
    "        <li> Art House and International </li>\n",
    "        <li> Drama </li>\n",
    "        <li> Mystery and Suspense </li>"
   ]
  },
  {
   "cell_type": "code",
   "execution_count": 84,
   "metadata": {},
   "outputs": [],
   "source": [
    "# Create a list of the four genres with the highest rating\n",
    "four_genres_list = ['Romance','Art House and International','Drama','Mystery and Suspense']"
   ]
  },
  {
   "cell_type": "code",
   "execution_count": 85,
   "metadata": {},
   "outputs": [],
   "source": [
    "# Create a dataset with only the four genres with the highest ratings\n",
    "highest_rating_genres_dataset = merged_datasets[merged_datasets.genres.isin(four_genres_list)]"
   ]
  },
  {
   "cell_type": "code",
   "execution_count": 86,
   "metadata": {},
   "outputs": [
    {
     "data": {
      "text/plain": [
       "Drama                          18624\n",
       "Mystery and Suspense            6439\n",
       "Romance                         4641\n",
       "Art House and International     2250\n",
       "Name: genres, dtype: int64"
      ]
     },
     "execution_count": 86,
     "metadata": {},
     "output_type": "execute_result"
    }
   ],
   "source": [
    "highest_rating_genres_dataset['genres'].value_counts()"
   ]
  },
  {
   "cell_type": "code",
   "execution_count": 87,
   "metadata": {},
   "outputs": [
    {
     "data": {
      "text/plain": [
       "112.90897943784192"
      ]
     },
     "execution_count": 87,
     "metadata": {},
     "output_type": "execute_result"
    }
   ],
   "source": [
    "# The mean of runtime for the four highest rated genres\n",
    "highest_rating_genres_dataset['runtime'].mean()"
   ]
  },
  {
   "cell_type": "code",
   "execution_count": 88,
   "metadata": {},
   "outputs": [
    {
     "data": {
      "text/plain": [
       "23.30271289125376"
      ]
     },
     "execution_count": 88,
     "metadata": {},
     "output_type": "execute_result"
    }
   ],
   "source": [
    "# Standard deviation from the mean for the four highest rated genres\n",
    "highest_rating_genres_dataset['runtime'].std()"
   ]
  },
  {
   "cell_type": "code",
   "execution_count": 89,
   "metadata": {},
   "outputs": [],
   "source": [
    "# Get an average runtime for each of the four highest rating genres\n",
    "avg_runtime_high_rating_genres = highest_rating_genres_dataset.groupby('genres', as_index=False)['runtime'].mean()"
   ]
  },
  {
   "cell_type": "code",
   "execution_count": 90,
   "metadata": {},
   "outputs": [],
   "source": [
    "# Rename the 'runtime' column of the new dataset into the \"mean_runtime\" \n",
    "avg_runtime_high_rating_genres.rename(columns={'runtime': 'mean_runtime'}, inplace=True)"
   ]
  },
  {
   "cell_type": "code",
   "execution_count": 91,
   "metadata": {},
   "outputs": [
    {
     "data": {
      "text/html": [
       "<div>\n",
       "<style scoped>\n",
       "    .dataframe tbody tr th:only-of-type {\n",
       "        vertical-align: middle;\n",
       "    }\n",
       "\n",
       "    .dataframe tbody tr th {\n",
       "        vertical-align: top;\n",
       "    }\n",
       "\n",
       "    .dataframe thead th {\n",
       "        text-align: right;\n",
       "    }\n",
       "</style>\n",
       "<table border=\"1\" class=\"dataframe\">\n",
       "  <thead>\n",
       "    <tr style=\"text-align: right;\">\n",
       "      <th></th>\n",
       "      <th>genres</th>\n",
       "      <th>mean_runtime</th>\n",
       "    </tr>\n",
       "  </thead>\n",
       "  <tbody>\n",
       "    <tr>\n",
       "      <th>0</th>\n",
       "      <td>Art House and International</td>\n",
       "      <td>111.512444</td>\n",
       "    </tr>\n",
       "    <tr>\n",
       "      <th>1</th>\n",
       "      <td>Drama</td>\n",
       "      <td>113.574733</td>\n",
       "    </tr>\n",
       "    <tr>\n",
       "      <th>2</th>\n",
       "      <td>Mystery and Suspense</td>\n",
       "      <td>111.593186</td>\n",
       "    </tr>\n",
       "    <tr>\n",
       "      <th>3</th>\n",
       "      <td>Romance</td>\n",
       "      <td>112.731308</td>\n",
       "    </tr>\n",
       "  </tbody>\n",
       "</table>\n",
       "</div>"
      ],
      "text/plain": [
       "                        genres  mean_runtime\n",
       "0  Art House and International    111.512444\n",
       "1                        Drama    113.574733\n",
       "2         Mystery and Suspense    111.593186\n",
       "3                      Romance    112.731308"
      ]
     },
     "execution_count": 91,
     "metadata": {},
     "output_type": "execute_result"
    }
   ],
   "source": [
    "avg_runtime_high_rating_genres"
   ]
  },
  {
   "cell_type": "code",
   "execution_count": 93,
   "metadata": {},
   "outputs": [
    {
     "data": {
      "text/plain": [
       "([0, 1, 2, 3],\n",
       " [Text(0, 0, ''), Text(0, 0, ''), Text(0, 0, ''), Text(0, 0, '')])"
      ]
     },
     "execution_count": 93,
     "metadata": {},
     "output_type": "execute_result"
    },
    {
     "data": {
      "image/png": "[encoded data removed]",
      "text/plain": [
       "<Figure size 864x432 with 1 Axes>"
      ]
     },
     "metadata": {
      "needs_background": "light"
     },
     "output_type": "display_data"
    }
   ],
   "source": [
    "fig, ax2 = plt.subplots(figsize = (12,6))\n",
    "x2 = avg_runtime_high_rating_genres['genres']\n",
    "y2 = avg_runtime_high_rating_genres['mean_runtime']\n",
    "ax2.bar(x2,y2)\n",
    "ax2.set_title('average runtime per genre')\n",
    "ax2.set_xlabel('genres')\n",
    "ax2.set_ylabel('average rating')\n",
    "plt.xticks(rotation = 45)"
   ]
  },
  {
   "cell_type": "markdown",
   "metadata": {},
   "source": [
    "----"
   ]
  },
  {
   "cell_type": "markdown",
   "metadata": {},
   "source": [
    "## Adonis's Data Analysis"
   ]
  },
  {
   "cell_type": "code",
   "execution_count": null,
   "metadata": {},
   "outputs": [],
   "source": [
    "df_gross.head()"
   ]
  },
  {
   "cell_type": "code",
   "execution_count": null,
   "metadata": {},
   "outputs": [],
   "source": [
    "# Find null values\n",
    "df_gross['domestic_gross'].isnull().value_counts()"
   ]
  },
  {
   "cell_type": "code",
   "execution_count": null,
   "metadata": {},
   "outputs": [],
   "source": [
    "df_gross['foreign_gross'].isnull().value_counts()"
   ]
  },
  {
   "cell_type": "code",
   "execution_count": null,
   "metadata": {},
   "outputs": [],
   "source": [
    "df_gross.info()"
   ]
  },
  {
   "cell_type": "code",
   "execution_count": null,
   "metadata": {},
   "outputs": [],
   "source": [
    "# Remove commas from values & convert to numeric\n",
    "df_gross['foreign_gross'] = df_gross['foreign_gross'].str.replace(',', '')\n",
    "df_gross['foreign_gross'] = pd.to_numeric(df_gross['foreign_gross'])\n",
    "df_gross['foreign_gross'].head() "
   ]
  },
  {
   "cell_type": "code",
   "execution_count": null,
   "metadata": {},
   "outputs": [],
   "source": [
    "# Remove null values from columns\n",
    "df_gross.dropna(subset=['studio', 'domestic_gross', 'foreign_gross'], inplace=True)\n",
    "df_gross.shape"
   ]
  },
  {
   "cell_type": "code",
   "execution_count": null,
   "metadata": {},
   "outputs": [],
   "source": [
    "# Verification of null value deletion\n",
    "df_gross.info()"
   ]
  },
  {
   "cell_type": "markdown",
   "metadata": {},
   "source": [
    "**Observations & Insights:**\n",
    "<ul></ul>\n",
    "<li>Do the studios that produce the most movies have the highest gross values?"
   ]
  },
  {
   "cell_type": "code",
   "execution_count": null,
   "metadata": {},
   "outputs": [],
   "source": [
    "# Top 10 studios with the most movies\n",
    "df_gross['studio'].value_counts()[:10]"
   ]
  },
  {
   "cell_type": "code",
   "execution_count": null,
   "metadata": {},
   "outputs": [],
   "source": [
    "x = list(df_gross['studio'].value_counts()[:10].index)\n",
    "x"
   ]
  },
  {
   "cell_type": "code",
   "execution_count": null,
   "metadata": {},
   "outputs": [],
   "source": [
    "# Top 10 studios domestic gross\n",
    "dfm2 = df_gross.groupby(['studio']).domestic_gross.sum().reset_index().sort_values(by='domestic_gross', ascending=False)\n",
    "d = dfm2[dfm2['studio'].isin(x)]"
   ]
  },
  {
   "cell_type": "markdown",
   "metadata": {},
   "source": [
    "**Observations & Insights:**\n",
    "<ul></ul>\n",
    "<li>Data analysis will focus on domestic and foreign gross for titles and studios."
   ]
  },
  {
   "cell_type": "code",
   "execution_count": null,
   "metadata": {},
   "outputs": [],
   "source": [
    "# Total gross for each film\n",
    "df_gross['total_gross'] = df_gross['domestic_gross'] + df_gross['foreign_gross']\n",
    "df_gross.head()"
   ]
  },
  {
   "cell_type": "code",
   "execution_count": null,
   "metadata": {},
   "outputs": [],
   "source": [
    "# Sort by domestic gross\n",
    "f = df_gross.sort_values(by='domestic_gross', ascending=False)\n",
    "\n",
    "f.head()"
   ]
  },
  {
   "cell_type": "markdown",
   "metadata": {},
   "source": [
    "**Observations & Insights:**\n",
    "<ul></ul>\n",
    "<li>Some foreign gross values seem wrong for blockbuster films. Are there more?"
   ]
  },
  {
   "cell_type": "code",
   "execution_count": null,
   "metadata": {},
   "outputs": [],
   "source": [
    "# Sort df on foreign gross\n",
    "g = df_gross.sort_values(by='foreign_gross', ascending=False)\n",
    "g.head(20)"
   ]
  },
  {
   "cell_type": "code",
   "execution_count": null,
   "metadata": {},
   "outputs": [],
   "source": [
    "# Check for more misreported foreign gross\n",
    "g.tail(20)"
   ]
  },
  {
   "cell_type": "markdown",
   "metadata": {},
   "source": [
    "**Observations & Insights:**\n",
    "<ul></ul>\n",
    "<li>Foreign gross values for some blockbusters are obviously misreported.\n",
    "<li>Analysis will focus on domestic markets, as foreign gross values cannot be verified/trusted."
   ]
  },
  {
   "cell_type": "code",
   "execution_count": null,
   "metadata": {},
   "outputs": [],
   "source": [
    "# Domestic gross per title\n",
    "fig, (ax1, ax2, ax3) = plt.subplots(ncols=3, figsize=(20,8))\n",
    "\n",
    "x1 = f['title'][:10]\n",
    "y1 = f['domestic_gross'][:10]\n",
    "ax1.barh(x1, y1)\n",
    "ax1.set_xlabel(\"Domestic Gross (hundreds of millions)\")\n",
    "ax1.set_ylabel(\"Movie Title\")\n",
    "ax1.set_title(\"Domestic Gross per Movie\")\n",
    "\n",
    "\n",
    "# Domestic gross per studio\n",
    "dfm3 = df_gross.groupby(['studio']).domestic_gross.sum().reset_index().sort_values(by='domestic_gross', ascending=False)\n",
    "\n",
    "\n",
    "x2 = dfm3.studio[:10]\n",
    "y2 = dfm3.domestic_gross[:10]\n",
    "ax2.barh(x2, y2)\n",
    "ax2.set_xlabel('Domestic Gross (tens of billions)')\n",
    "ax2.set_ylabel('Studio')\n",
    "ax2.set_title('Top 10 Highest Domestic Grossing Studios ')\n",
    "\n",
    "# Domestic gross for studios with most films\n",
    "x = ['Uni.', 'Fox', 'WB', 'Sony', 'BV', 'Par.', 'LGF', 'Wein.', 'IFC', 'SPC']\n",
    "\n",
    "\n",
    "x3 = d['studio']\n",
    "y3 = d['domestic_gross']\n",
    "ax3.barh(x3, y3)\n",
    "ax3.set_xlabel(\"Domestic Gross (tens of billions)\")\n",
    "ax3.set_ylabel(\"Studio\")\n",
    "ax3.set_title('Total Domestic Gross for Studio with Most Films')\n",
    "\n",
    "fig.tight_layout()"
   ]
  },
  {
   "cell_type": "markdown",
   "metadata": {},
   "source": [
    "**Final Observations & Insights**\n",
    "<ul>\n",
    "    <li> From the data we can see that outside of the largest studios (BV, Uni, WB, Fox, Sony), the number of films doesn't correlate with highest domestic gross. As such, we recommend that Microsoft focuses on quality content in Drama, Action and Comedy.\n",
    "    <li> The highest grossing films are all franchises (Marvel, Jurassic Park, Star Wars, etc). It is highly recommended that any action films made be based upon Microsoft franchises to avoid licensure/copyright fees(this caused issues for Microsoft in the past with potential Halo films).\n",
    "    <li> Smaller studios such as Weinstein, SPC and IFC could potentially be acquired to acclerate content production.\n",
    "</ul>"
   ]
  },
  {
   "cell_type": "markdown",
   "metadata": {},
   "source": [
    "----"
   ]
  },
  {
   "cell_type": "markdown",
   "metadata": {
    "collapsed": true
   },
   "source": [
    "# Deja's Data Analysis"
   ]
  },
  {
   "cell_type": "code",
   "execution_count": null,
   "metadata": {},
   "outputs": [],
   "source": [
    "# Display dataframe\n",
    "display(movie_type)\n",
    "display(movie_type.info())"
   ]
  },
  {
   "cell_type": "markdown",
   "metadata": {},
   "source": [
    "**Observations & Insights:**\n",
    "<ul></ul>\n",
    "<li>There are 26517 total entries with 0 missing values.\n",
    "<li>The release date column is the object datatype and should be changed to the datetime datatype.\n",
    "<li>The production budget, domestic gross, and worldwide gross columns are also object datatypes and should be changed to integer."
   ]
  },
  {
   "cell_type": "code",
   "execution_count": null,
   "metadata": {},
   "outputs": [],
   "source": [
    "# Show when movies were released\n",
    "movie_type.sort_values(by='release_date', ascending=False)"
   ]
  },
  {
   "cell_type": "code",
   "execution_count": null,
   "metadata": {},
   "outputs": [],
   "source": [
    "# Filter for movies in English\n",
    "movie_type= movie_type.loc[movie_type['original_language'] == \"en\"]\n",
    "movie_type"
   ]
  },
  {
   "cell_type": "code",
   "execution_count": null,
   "metadata": {},
   "outputs": [],
   "source": [
    "# Condense data to get most voted on movies\n",
    "movie_type_data= movie_type.loc[movie_type['vote_count'] >= 10000]\n",
    "movie_type_data"
   ]
  },
  {
   "cell_type": "code",
   "execution_count": null,
   "metadata": {},
   "outputs": [],
   "source": [
    "movie_type_data[\"genre_ids\"].iloc[0]"
   ]
  },
  {
   "cell_type": "code",
   "execution_count": null,
   "metadata": {},
   "outputs": [],
   "source": [
    "# Separate genre ids with multiple values\n",
    "movie_type_data.genre_ids = movie_type_data.genre_ids.map(lambda x:eval(x))"
   ]
  },
  {
   "cell_type": "code",
   "execution_count": null,
   "metadata": {},
   "outputs": [],
   "source": [
    "movie_type_data = movie_type_data.explode(\"genre_ids\")"
   ]
  },
  {
   "cell_type": "code",
   "execution_count": null,
   "metadata": {},
   "outputs": [],
   "source": [
    "# Filter genres with few votes\n",
    "movie_type_data= movie_type_data.loc[movie_type_data['genre_ids'] <= 878]\n",
    "movie_type_data"
   ]
  },
  {
   "cell_type": "code",
   "execution_count": null,
   "metadata": {},
   "outputs": [],
   "source": [
    "movie_type_data[\"genre_ids\"].replace({12: \"adventure\", 14: \"fantasy\", 16: \"animated\", 18: \"drama\", 27: \"horror\", 28: \"action\", 35: \"comedy\", 36: \"history\", 37: \"western\", 53: \"thriller\", 80: \"crime\", 878: \"sci fi\"}, inplace=True)"
   ]
  },
  {
   "cell_type": "markdown",
   "metadata": {},
   "source": [
    "### James' Data Analysis:"
   ]
  },
  {
   "cell_type": "code",
   "execution_count": null,
   "metadata": {},
   "outputs": [],
   "source": [
    "#setting tconst as index for joining 3 separate dataframes\n",
    "title_ratings.set_index('tconst', inplace = True)\n",
    "title_basics.set_index('tconst', inplace =True)\n",
    "\n",
    "#renamed title_id to tconst to join this data frame into our main data frame\n",
    "title_akas.rename(columns={'title_id':'tconst'}, inplace=True)\n",
    "title_akas.set_index('tconst', inplace=True)\n",
    "\n",
    "#completed first join between title_ratings and title_basics\n",
    "merged1 = title_ratings.join(title_basics, on='tconst', how='inner')\n",
    "\n",
    "#completed second join between the above result and title_akas\n",
    "imdb_data = merged1.join(title_akas, on='tconst', how='inner')\n",
    "\n",
    "#Since there are lots of missing data and irrelevant data, the data is filtered with only US region\n",
    "imdb_US_movie = imdb_data[imdb_data['region'] == 'US'].copy()\n",
    "\n",
    "#sorted in descending order\n",
    "imdb_US_movie = imdb_US_movie.sort_values(by=['numvotes'], ascending=False).copy()\n",
    "\n",
    "#dropped all the duplicate titles from the dataframe\n",
    "imdb_US_movie = imdb_US_movie.drop_duplicates(subset=['original_title'], keep ='first').copy()\n",
    "\n",
    "#filtered out irrelevant columns in our dataframe\n",
    "#setting the index to title\n",
    "imdb_US_movie = imdb_US_movie.set_index('primary_title').copy()\n",
    "imdb_US_movie = imdb_US_movie[['averagerating', 'numvotes', 'start_year', 'runtime_minutes', 'genres']].copy()\n",
    "imdb_US_movie.head()"
   ]
  },
  {
   "cell_type": "code",
   "execution_count": null,
   "metadata": {},
   "outputs": [],
   "source": [
    "#the mean vote counts is significantly larger than the median.\n",
    "#This means the data is extremely skewed right.\n",
    "\n",
    "mean = imdb_US_movie['numvotes'].mean()\n",
    "median = imdb_US_movie['numvotes'].median()\n",
    "print(f'mean is {mean} and median is {median}')"
   ]
  },
  {
   "cell_type": "code",
   "execution_count": null,
   "metadata": {},
   "outputs": [],
   "source": [
    "#We will consider top 10 and top 1 percent of the data\n",
    "#10 and 1 percentile of vote counts\n",
    "\n",
    "ten_percentile = imdb_US_movie['numvotes'].quantile(.90)\n",
    "one_percentile = imdb_US_movie['numvotes'].quantile(.99)\n",
    "\n",
    "print(\"top 10 percentile:\", round(ten_percentile))\n",
    "print(\"top 1 percentile:\", round(one_percentile))"
   ]
  },
  {
   "cell_type": "code",
   "execution_count": null,
   "metadata": {},
   "outputs": [],
   "source": [
    "#movies filtered based on the top 10 percentile of vote counts\n",
    "top_10_percent = imdb_US_movie[(imdb_US_movie['numvotes']>=5795)].reset_index().copy()\n",
    "\n",
    "#divided up multiple genres for a single movie into a separate row\n",
    "top_10_percent.loc[:,('genres')] = top_10_percent.loc[:,('genres')].str.split(',')\n",
    "top_10 = top_10_percent.explode('genres')\n",
    "\n",
    "#filtered out top 5 genres of movie counts within the 10 percentile\n",
    "genres_count_10_percent = pd.DataFrame(top_10['genres'].value_counts())\n",
    "genres_count_10_percent = genres_count_10_percent.head()\n",
    "\n",
    "#created a table with average number of votes for top five movie genre counts\n",
    "genres_avgvotes_10 = pd.DataFrame(top_10.groupby('genres')['numvotes'].mean().sort_values(ascending=False))\n",
    "genres_avgvotes_10 = genres_avgvotes_10.reset_index()\n",
    "genres_avgvotes_10 = genres_avgvotes_10[genres_avgvotes_10['genres'].isin(['Drama','Comedy','Action','Thriller','Adventure'])]\n",
    "genres_avgvotes_10.set_index('genres', inplace=True)\n",
    "genres_avgvotes_10\n",
    "\n",
    "#joined the movie counts and average number of votes by genre\n",
    "top10 = genres_count_10_percent.join(genres_avgvotes_10)\n",
    "top10.rename(columns={'genres':'movie counts'}, inplace=True)\n",
    "top10"
   ]
  },
  {
   "cell_type": "code",
   "execution_count": null,
   "metadata": {},
   "outputs": [],
   "source": [
    "#Repeated all the steps above to gather top 1 percentile of number of votes\n",
    "top_1_percent = imdb_US_movie[(imdb_US_movie['numvotes']>=223993)].reset_index().copy()\n",
    "top_1_percent.loc[:,('genres')] = top_1_percent.loc[:,('genres')].str.split(',')\n",
    "top_1 = top_1_percent.explode('genres')\n",
    "genres_count_1percent = pd.DataFrame(top_1['genres'].value_counts())\n",
    "genres_count_1 = genres_count_1percent.head()\n",
    "genres_avgvotes_1 = pd.DataFrame(top_1.groupby('genres')['numvotes'].mean().sort_values(ascending=False))\n",
    "genres_avgvotes_1 = genres_avgvotes_1.reset_index()\n",
    "genres_avgvotes_1 = genres_avgvotes_1[genres_avgvotes_1['genres'].isin(['Drama','Comedy','Action','Sci-Fi','Adventure'])]\n",
    "genres_avgvotes_1.set_index('genres', inplace=True)\n",
    "top1 = genres_count_1.join(genres_avgvotes_1)\n",
    "top1.rename(columns={'genres':'movie counts'}, inplace=True)\n",
    "top1"
   ]
  },
  {
   "cell_type": "code",
   "execution_count": null,
   "metadata": {},
   "outputs": [],
   "source": [
    "#style of plots used\n",
    "plt.style.use('seaborn-darkgrid')\n",
    "plt.style.use('seaborn-notebook')"
   ]
  },
  {
   "cell_type": "code",
   "execution_count": null,
   "metadata": {},
   "outputs": [],
   "source": [
    "#Two separate bar graphs of top 10 percentile(number of votes) movie genre data\n",
    "x = np.arange(len(top1.index))\n",
    "width = 0.6\n",
    "\n",
    "fig, (ax1, ax2) = plt.subplots(figsize=(11,6), ncols=2, constrained_layout=True)\n",
    "fig.suptitle(\"Top Ten Percentile in Vote Counts\", fontsize=24)\n",
    "ax1.bar(x, top10['movie counts'], width)\n",
    "ax1.set_xticks(x)\n",
    "ax1.set_xticklabels(top10.index)\n",
    "ax1.set_title(('Number of Movies in Each Genre'))\n",
    "ax1.set_xlabel('Movie Genres')\n",
    "ax1.set_ylabel('Number of Movies')\n",
    "ax2.bar(x, top10['numvotes'], width)\n",
    "ax2.set_xticks(x)\n",
    "ax2.set_xticklabels(top10.index)\n",
    "ax2.set_title('Average Vote Counts')\n",
    "ax2.set_xlabel('Movie Genres')\n",
    "ax2.set_ylabel('Vote Counts');"
   ]
  },
  {
   "cell_type": "code",
   "execution_count": null,
   "metadata": {},
   "outputs": [],
   "source": [
    "##Two separate bar graphs of top 1 percentile(number of votes) movie genre data\n",
    "x = np.arange(len(top1.index))\n",
    "width = 0.6\n",
    "\n",
    "fig, (ax1, ax2) = plt.subplots(figsize=(11,6), ncols=2, constrained_layout=True)\n",
    "fig.suptitle(\"Top One Percentile in Vote Counts\", fontsize=24)\n",
    "ax1.bar(x, top1['movie counts'], width)\n",
    "ax1.set_xticks(x)\n",
    "ax1.set_xticklabels(top1.index)\n",
    "ax1.set_title(('Number of Movies in Each Genre'))\n",
    "ax1.set_xlabel('Movie Genres')\n",
    "ax1.set_ylabel('Number of Movies')\n",
    "ax2.bar(x, top1['numvotes'], width)\n",
    "ax2.set_xticks(x)\n",
    "ax2.set_xticklabels(top1.index)\n",
    "ax2.set_title('Average Vote Counts')\n",
    "ax2.set_xlabel('Movie Genres')\n",
    "ax2.set_ylabel('Vote Counts');"
   ]
  }
 ],
 "metadata": {
  "kernelspec": {
   "display_name": "Python (learn-env)",
   "language": "python",
   "name": "learn-env"
  },
  "language_info": {
   "codemirror_mode": {
    "name": "ipython",
    "version": 3
   },
   "file_extension": ".py",
   "mimetype": "text/x-python",
   "name": "python",
   "nbconvert_exporter": "python",
   "pygments_lexer": "ipython3",
   "version": "3.8.5"
  }
 },
 "nbformat": 4,
 "nbformat_minor": 4
}
